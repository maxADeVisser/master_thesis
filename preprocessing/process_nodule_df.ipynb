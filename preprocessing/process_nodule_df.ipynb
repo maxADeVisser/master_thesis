{
 "cells": [
  {
   "cell_type": "code",
   "execution_count": 2,
   "metadata": {},
   "outputs": [],
   "source": [
    "from project_config import SEED, env_config, pipeline_config\n",
    "from utils.common_imports import *\n",
    "\n",
    "from utils.logger_setup import logger\n",
    "\n",
    "HOLD_OUT_PIDS = env_config.hold_out_pids\n",
    "PROCESSED_NODULE_DF_NAME = \"processed_nodule_df\"\n",
    "nodule_df = pd.read_csv(f\"{env_config.OUT_DIR}/nodule_df.csv\")"
   ]
  },
  {
   "cell_type": "markdown",
   "metadata": {},
   "source": [
    "# Create hold out set"
   ]
  },
  {
   "cell_type": "code",
   "execution_count": 6,
   "metadata": {},
   "outputs": [
    {
     "name": "stdout",
     "output_type": "stream",
     "text": [
      "hold_out_df: (0, 40)\n",
      "nodule_df: (2378, 40)\n"
     ]
    }
   ],
   "source": [
    "# create hold out df:\n",
    "hold_out_df = nodule_df[nodule_df[\"pid\"].isin(HOLD_OUT_PIDS)].reset_index(drop=True)\n",
    "hold_out_df.to_csv(f\"{env_config.OUT_DIR}/hold_out_nodule_df.csv\", index=False)\n",
    "print(f\"hold_out_df: {hold_out_df.shape}\")\n",
    "\n",
    "# remove hold out pids from nodule_df:\n",
    "nodule_df = nodule_df[~nodule_df[\"pid\"].isin(HOLD_OUT_PIDS)].reset_index(drop=True)\n",
    "print(f\"nodule_df: {nodule_df.shape}\")"
   ]
  },
  {
   "cell_type": "markdown",
   "metadata": {},
   "source": [
    "# Add Cross Validation Folds"
   ]
  },
  {
   "cell_type": "code",
   "execution_count": null,
   "metadata": {},
   "outputs": [],
   "source": [
    "from preprocessing.create_cv_df import add_cv_info\n",
    "\n",
    "nodule_df = add_cv_info(nodule_df)\n"
   ]
  },
  {
   "cell_type": "markdown",
   "metadata": {},
   "source": [
    "# Write out processed nodule df to file"
   ]
  },
  {
   "cell_type": "code",
   "execution_count": null,
   "metadata": {},
   "outputs": [],
   "source": [
    "try:\n",
    "    nodule_df.to_csv(f\"{env_config.OUT_DIR}/{PROCESSED_NODULE_DF_NAME}.csv\", index=False)\n",
    "except Exception as e:\n",
    "    logger.error(f\"Error saving nodule_df dataframe: {e}\")"
   ]
  }
 ],
 "metadata": {
  "kernelspec": {
   "display_name": ".venv",
   "language": "python",
   "name": "python3"
  },
  "language_info": {
   "codemirror_mode": {
    "name": "ipython",
    "version": 3
   },
   "file_extension": ".py",
   "mimetype": "text/x-python",
   "name": "python",
   "nbconvert_exporter": "python",
   "pygments_lexer": "ipython3",
   "version": "3.11.4"
  }
 },
 "nbformat": 4,
 "nbformat_minor": 2
}
