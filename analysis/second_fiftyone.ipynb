{
 "cells": [
  {
   "cell_type": "code",
   "execution_count": 2,
   "metadata": {},
   "outputs": [
    {
     "name": "stdout",
     "output_type": "stream",
     "text": [
      "Name:        LIDC-IDRI_Nodule_ROIs\n",
      "Media type:  image\n",
      "Num samples: 2063\n",
      "Persistent:  False\n",
      "Tags:        []\n",
      "Sample fields:\n",
      "    id:               fiftyone.core.fields.ObjectIdField\n",
      "    filepath:         fiftyone.core.fields.StringField\n",
      "    tags:             fiftyone.core.fields.ListField(fiftyone.core.fields.StringField)\n",
      "    metadata:         fiftyone.core.fields.EmbeddedDocumentField(fiftyone.core.metadata.ImageMetadata)\n",
      "    created_at:       fiftyone.core.fields.DateTimeField\n",
      "    last_modified_at: fiftyone.core.fields.DateTimeField\n",
      "[<Sample: {\n",
      "    'id': '673baa777ba9cafa6f795860',\n",
      "    'media_type': 'image',\n",
      "    'filepath': '/Users/newuser/Documents/ITU/master_thesis/data/middle_slice_images_c70/LIDC-IDRI-0001_0.jpg',\n",
      "    'tags': [],\n",
      "    'metadata': None,\n",
      "    'created_at': datetime.datetime(2024, 11, 18, 20, 58, 31, 330000),\n",
      "    'last_modified_at': datetime.datetime(2024, 11, 18, 20, 58, 31, 330000),\n",
      "}>, <Sample: {\n",
      "    'id': '673baa777ba9cafa6f795861',\n",
      "    'media_type': 'image',\n",
      "    'filepath': '/Users/newuser/Documents/ITU/master_thesis/data/middle_slice_images_c70/LIDC-IDRI-0002_0.jpg',\n",
      "    'tags': [],\n",
      "    'metadata': None,\n",
      "    'created_at': datetime.datetime(2024, 11, 18, 20, 58, 31, 332000),\n",
      "    'last_modified_at': datetime.datetime(2024, 11, 18, 20, 58, 31, 332000),\n",
      "}>, <Sample: {\n",
      "    'id': '673baa777ba9cafa6f795862',\n",
      "    'media_type': 'image',\n",
      "    'filepath': '/Users/newuser/Documents/ITU/master_thesis/data/middle_slice_images_c70/LIDC-IDRI-0003_0.jpg',\n",
      "    'tags': [],\n",
      "    'metadata': None,\n",
      "    'created_at': datetime.datetime(2024, 11, 18, 20, 58, 31, 332000),\n",
      "    'last_modified_at': datetime.datetime(2024, 11, 18, 20, 58, 31, 332000),\n",
      "}>]\n"
     ]
    }
   ],
   "source": [
    "import fiftyone as fo\n",
    "\n",
    "name = \"LIDC-IDRI_Nodule_ROIs\"\n",
    "dataset_dir = \"/Users/newuser/Documents/ITU/master_thesis/data/middle_slice_images_c70\"\n",
    "\n",
    "# Create the dataset\n",
    "# dataset = fo.Dataset.from_dir(\n",
    "#     dataset_dir=dataset_dir,\n",
    "#     dataset_type=fo.types.ImageDirectory,\n",
    "#     name=name,\n",
    "# )\n",
    "dataset = fo.load_dataset(name)\n",
    "\n",
    "# View summary info about the dataset\n",
    "print(dataset)\n",
    "\n",
    "# Print the first few samples in the dataset\n",
    "print(dataset.head())\n"
   ]
  },
  {
   "cell_type": "code",
   "execution_count": 3,
   "metadata": {},
   "outputs": [
    {
     "data": {
      "text/html": [
       "\n",
       "        <iframe\n",
       "            width=\"100%\"\n",
       "            height=\"800\"\n",
       "            src=\"http://localhost:5151/?notebook=True&subscription=619214aa-de00-46e3-9151-9dd625f443f1\"\n",
       "            frameborder=\"0\"\n",
       "            allowfullscreen\n",
       "            \n",
       "        ></iframe>\n",
       "        "
      ],
      "text/plain": [
       "<IPython.lib.display.IFrame at 0x168355450>"
      ]
     },
     "metadata": {},
     "output_type": "display_data"
    }
   ],
   "source": [
    "session = fo.launch_app(dataset)"
   ]
  }
 ],
 "metadata": {
  "kernelspec": {
   "display_name": ".venv",
   "language": "python",
   "name": "python3"
  },
  "language_info": {
   "codemirror_mode": {
    "name": "ipython",
    "version": 3
   },
   "file_extension": ".py",
   "mimetype": "text/x-python",
   "name": "python",
   "nbconvert_exporter": "python",
   "pygments_lexer": "ipython3",
   "version": "3.11.4"
  }
 },
 "nbformat": 4,
 "nbformat_minor": 2
}
