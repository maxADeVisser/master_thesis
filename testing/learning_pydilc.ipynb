{
 "cells": [
  {
   "cell_type": "markdown",
   "metadata": {},
   "source": [
    "**REMEMBER**: add the config file `~/.pylidcrc` in the root directory that specifies where the dataset is store on your machine\n",
    "```\n",
    "[dicom]\n",
    "path = .../path/LIDC-IDRI\n",
    "warn = True\n",
    "```"
   ]
  },
  {
   "cell_type": "code",
   "execution_count": 1,
   "metadata": {},
   "outputs": [],
   "source": [
    "import pylidc as pl\n",
    "import numpy as np\n",
    "import matplotlib.pyplot as plt\n",
    "\n",
    "# to avoid error in pylidc due to deprecated types:\n",
    "np.int = int\n",
    "np.float = float"
   ]
  },
  {
   "cell_type": "markdown",
   "metadata": {},
   "source": [
    "# `Scan` class\n",
    "[see class docs here](https://pylidc.github.io/scan.html)\n",
    "- The `pylidc.Scan` class holds some (but not all!) of the DICOM attributes associated with the CT scans in the LIDC dataset. These attributes can be used to query the data.\n",
    "- A `pylidc.Scan` object has zero or more pylidc.Annotation objects, which are radiologist annotations of lung nodules found in the scan:"
   ]
  },
  {
   "cell_type": "code",
   "execution_count": 12,
   "metadata": {},
   "outputs": [
    {
     "name": "stdout",
     "output_type": "stream",
     "text": [
      "1.3.6.1.4.1.14519.5.2.1.6279.6001.339170810277323131167631068432\n",
      "1.3.6.1.4.1.14519.5.2.1.6279.6001.303494235102183795724852353824\n",
      "LIDC-IDRI-0078\n",
      "3.0\n",
      "[Zval(id=1,scan_id=1,val=1403.500000), Zval(id=2,scan_id=1,val=1406.500000), Zval(id=3,scan_id=1,val=1409.500000), Zval(id=4,scan_id=1,val=1412.500000), Zval(id=5,scan_id=1,val=1415.500000), Zval(id=6,scan_id=1,val=1418.500000), Zval(id=7,scan_id=1,val=1421.500000), Zval(id=8,scan_id=1,val=1424.500000), Zval(id=9,scan_id=1,val=1427.500000), Zval(id=10,scan_id=1,val=1430.500000), Zval(id=11,scan_id=1,val=1433.500000), Zval(id=12,scan_id=1,val=1436.500000), Zval(id=13,scan_id=1,val=1439.500000), Zval(id=14,scan_id=1,val=1442.500000), Zval(id=15,scan_id=1,val=1445.500000), Zval(id=16,scan_id=1,val=1448.500000), Zval(id=17,scan_id=1,val=1451.500000), Zval(id=18,scan_id=1,val=1454.500000), Zval(id=19,scan_id=1,val=1457.500000), Zval(id=20,scan_id=1,val=1460.500000), Zval(id=21,scan_id=1,val=1463.500000), Zval(id=22,scan_id=1,val=1466.500000), Zval(id=23,scan_id=1,val=1469.500000), Zval(id=24,scan_id=1,val=1472.500000), Zval(id=25,scan_id=1,val=1475.500000), Zval(id=26,scan_id=1,val=1478.500000), Zval(id=27,scan_id=1,val=1481.500000), Zval(id=28,scan_id=1,val=1484.500000), Zval(id=29,scan_id=1,val=1487.500000), Zval(id=30,scan_id=1,val=1490.500000), Zval(id=31,scan_id=1,val=1493.500000), Zval(id=32,scan_id=1,val=1496.500000), Zval(id=33,scan_id=1,val=1499.500000), Zval(id=34,scan_id=1,val=1502.500000), Zval(id=35,scan_id=1,val=1505.500000), Zval(id=36,scan_id=1,val=1508.500000), Zval(id=37,scan_id=1,val=1511.500000), Zval(id=38,scan_id=1,val=1514.500000), Zval(id=39,scan_id=1,val=1517.500000), Zval(id=40,scan_id=1,val=1520.500000), Zval(id=41,scan_id=1,val=1523.500000), Zval(id=42,scan_id=1,val=1526.500000), Zval(id=43,scan_id=1,val=1529.500000), Zval(id=44,scan_id=1,val=1532.500000), Zval(id=45,scan_id=1,val=1535.500000), Zval(id=46,scan_id=1,val=1538.500000), Zval(id=47,scan_id=1,val=1541.500000), Zval(id=48,scan_id=1,val=1544.500000), Zval(id=49,scan_id=1,val=1547.500000), Zval(id=50,scan_id=1,val=1550.500000), Zval(id=51,scan_id=1,val=1553.500000), Zval(id=52,scan_id=1,val=1556.500000), Zval(id=53,scan_id=1,val=1559.500000), Zval(id=54,scan_id=1,val=1562.500000), Zval(id=55,scan_id=1,val=1565.500000), Zval(id=56,scan_id=1,val=1568.500000), Zval(id=57,scan_id=1,val=1571.500000), Zval(id=58,scan_id=1,val=1574.500000), Zval(id=59,scan_id=1,val=1577.500000), Zval(id=60,scan_id=1,val=1580.500000), Zval(id=61,scan_id=1,val=1583.500000), Zval(id=62,scan_id=1,val=1586.500000), Zval(id=63,scan_id=1,val=1589.500000), Zval(id=64,scan_id=1,val=1592.500000), Zval(id=65,scan_id=1,val=1595.500000), Zval(id=66,scan_id=1,val=1598.500000), Zval(id=67,scan_id=1,val=1601.500000), Zval(id=68,scan_id=1,val=1604.500000), Zval(id=69,scan_id=1,val=1607.500000), Zval(id=70,scan_id=1,val=1610.500000), Zval(id=71,scan_id=1,val=1613.500000), Zval(id=72,scan_id=1,val=1616.500000), Zval(id=73,scan_id=1,val=1619.500000), Zval(id=74,scan_id=1,val=1622.500000), Zval(id=75,scan_id=1,val=1625.500000), Zval(id=76,scan_id=1,val=1628.500000), Zval(id=77,scan_id=1,val=1631.500000), Zval(id=78,scan_id=1,val=1634.500000), Zval(id=79,scan_id=1,val=1637.500000), Zval(id=80,scan_id=1,val=1640.500000), Zval(id=81,scan_id=1,val=1643.500000), Zval(id=82,scan_id=1,val=1646.500000), Zval(id=83,scan_id=1,val=1649.500000), Zval(id=84,scan_id=1,val=1652.500000), Zval(id=85,scan_id=1,val=1655.500000), Zval(id=86,scan_id=1,val=1658.500000), Zval(id=87,scan_id=1,val=1661.500000)]\n"
     ]
    }
   ],
   "source": [
    "# get the first scan\n",
    "scan = pl.query(pl.Scan).first()\n",
    "print(scan.study_instance_uid)\n",
    "print(scan.series_instance_uid)\n",
    "print(scan.patient_id)\n",
    "print(scan.slice_thickness)\n",
    "print(scan.zvals)"
   ]
  },
  {
   "cell_type": "code",
   "execution_count": 8,
   "metadata": {},
   "outputs": [
    {
     "data": {
      "text/plain": [
       "31"
      ]
     },
     "execution_count": 8,
     "metadata": {},
     "output_type": "execute_result"
    }
   ],
   "source": [
    "# how to filter/query scans\n",
    "scans = pl.query(pl.Scan).filter(pl.Scan.slice_thickness <= 1,\n",
    "                                 pl.Scan.pixel_spacing <= 0.6).all()\n",
    "len(scans)"
   ]
  },
  {
   "cell_type": "code",
   "execution_count": 10,
   "metadata": {},
   "outputs": [
    {
     "name": "stdout",
     "output_type": "stream",
     "text": [
      "Total number of scans:  1018\n",
      "Number of scans with annotations:  883\n"
     ]
    }
   ],
   "source": [
    "# Descriptics\n",
    "total_scan_counts = pl.query(pl.Scan).count()\n",
    "scans_with_annotations = pl.query(pl.Scan).filter(pl.Scan.annotations.any()).count()\n",
    "print(\"Total number of scans: \", total_scan_counts)\n",
    "print(\"Number of scans with annotations: \", scans_with_annotations)"
   ]
  },
  {
   "cell_type": "code",
   "execution_count": 5,
   "metadata": {},
   "outputs": [
    {
     "name": "stdout",
     "output_type": "stream",
     "text": [
      "Loading dicom files ... This may take a moment.\n"
     ]
    },
    {
     "ename": "",
     "evalue": "",
     "output_type": "error",
     "traceback": [
      "\u001b[1;31mThe Kernel crashed while executing code in the current cell or a previous cell. \n",
      "\u001b[1;31mPlease review the code in the cell(s) to identify a possible cause of the failure. \n",
      "\u001b[1;31mClick <a href='https://aka.ms/vscodeJupyterKernelCrash'>here</a> for more info. \n",
      "\u001b[1;31mView Jupyter <a href='command:jupyter.viewOutput'>log</a> for further details."
     ]
    }
   ],
   "source": [
    "# to open the plot interactively:\n",
    "%matplotlib qt\n",
    "\n",
    "# utils\n",
    "scan = pl.query(pl.Scan).first() # get a scan\n",
    "\n",
    "# images = scan.load_all_dicom_images(verbose=False) # load all DICOM images for this scan\n",
    "# print(len(images))\n",
    "\n",
    "# scan_dir = scan.get_path_to_dicom_files() # get the path to the DICOM files for this scan\n",
    "\n",
    "# return the scan as a 3D numpy array\n",
    "# volumne = scan.to_volume(verbose=False)\n",
    "\n",
    "# cluster the annotations\n",
    "nodules = scan.cluster_annotations()\n",
    "\n",
    "# visualise the scan\n",
    "\n",
    "scan.visualize(annotation_groups=nodules)\n",
    "\n",
    "%matplotlib inline"
   ]
  },
  {
   "cell_type": "markdown",
   "metadata": {},
   "source": [
    "# `Annotation` class\n",
    "[see class docs here](https://pylidc.github.io/annotation.html)\n",
    "\n",
    "The Nodule model class holds the information from a single physicians annotation of a nodule >= 3mm class with a particular scan. A nodule has many contours, each of which refers to the contour drawn for nodule in each scan slice.\n",
    "\n",
    "Refer to the documentation link above for semantic describtions of what the different values mean."
   ]
  },
  {
   "cell_type": "code",
   "execution_count": 37,
   "metadata": {},
   "outputs": [
    {
     "data": {
      "text/plain": [
       "'Non-central'"
      ]
     },
     "execution_count": 37,
     "metadata": {},
     "output_type": "execute_result"
    }
   ],
   "source": [
    "ann = pl.query(pl.Annotation)\\\n",
    "        .filter(pl.Annotation.spiculation > 3).first()"
   ]
  },
  {
   "cell_type": "code",
   "execution_count": 35,
   "metadata": {},
   "outputs": [
    {
     "name": "stdout",
     "output_type": "stream",
     "text": [
      "Total number of annotations:  6859\n",
      "----------------------------------------\n",
      "Number of annotations by malignancy:\n",
      "Malignancy 1: 0\n",
      "Malignancy 2: 1020\n",
      "Malignancy 3: 1580\n",
      "Malignancy 4: 2606\n",
      "Malignancy 5: 962\n",
      "----------------------------------------\n",
      "Number of annotations by subtlety:\n",
      "Subtlety 1: 0\n",
      "Subtlety 2: 349\n",
      "Subtlety 3: 625\n",
      "Subtlety 4: 1446\n",
      "Subtlety 5: 1897\n",
      "----------------------------------------\n"
     ]
    }
   ],
   "source": [
    "# Descriptics\n",
    "annotations_count = pl.query(pl.Annotation).count()\n",
    "print(\"Total number of annotations: \", annotations_count)\n",
    "\n",
    "print(\"----------------------------------------\")\n",
    "\n",
    "print(\"Number of annotations by malignancy:\")\n",
    "for i in range(5):\n",
    "    ann = pl.query(pl.Annotation).filter(pl.Annotation.malignancy == i)\n",
    "    print(f\"Malignancy {i +1}: {ann.count()}\")\n",
    "\n",
    "print(\"----------------------------------------\")\n",
    "\n",
    "print(\"Number of annotations by subtlety:\")\n",
    "for i in range(5):\n",
    "    ann = pl.query(pl.Annotation).filter(pl.Annotation.subtlety == i)\n",
    "    print(f\"Subtlety {i +1}: {ann.count()}\")\n",
    "\n",
    "# etc ..."
   ]
  },
  {
   "cell_type": "markdown",
   "metadata": {},
   "source": [
    "# Utils - Annotation consensus and Volume Viewer\n",
    "The `pylidc.utils.consensus()` utility accepts a list of annotations to produce a single boolean-valued volume of those annotations. It also returns the individual boolean masks for each Annotation, placed in a common frame of reference – i.e., a common bounding box, which is also returned."
   ]
  },
  {
   "cell_type": "code",
   "execution_count": 17,
   "metadata": {},
   "outputs": [
    {
     "data": {
      "image/png": "[encoded data removed]",
      "text/plain": [
       "<Figure size 500x500 with 1 Axes>"
      ]
     },
     "metadata": {},
     "output_type": "display_data"
    }
   ],
   "source": [
    "# see https://pylidc.github.io/utils.html#pylidc.utils.consensus for utils documentation\n",
    "from pylidc.utils import consensus\n",
    "from skimage.measure import find_contours\n",
    "\n",
    "def show_segmentation_consensus(scan: pl.Scan, nodule_idx: int, clevel: float = 0.5) -> None:\n",
    "    \"\"\"\n",
    "    Display the consensus segmentation for a nodule in a scan.\n",
    "\n",
    "    Args:\n",
    "        @scan: The pylidc.Scan object.\n",
    "        @nodule_idx: The index of the nodule in the scan.\n",
    "        @clevel: The consensus fraction. For example, if clevel=0.5, then a voxel will have value 1 (True) in the returned boolean volume when at least 50% of the annotations have a value of 1 at that voxel, and 0 (False) otherwise.\n",
    "        @pad: The number of slices to pad the volume by in the z-direction.\n",
    "    \"\"\"\n",
    "    # Query for a scan, and convert it to an array volume.\n",
    "    vol = scan.to_volume(verbose=False)\n",
    "\n",
    "    # Cluster the annotations for the scan, and grab one.\n",
    "    nods = scan.cluster_annotations()\n",
    "    anns = nods[nodule_idx] # TODO maybe this should be the nodule id ??\n",
    "\n",
    "    # Perform a consensus consolidation and 50% agreement level.\n",
    "    # We pad the slices to add context for viewing.\n",
    "    cmask, cbbox, masks = consensus(anns, clevel=clevel, pad=[(20,20), (20,20), (0,0)])\n",
    "\n",
    "    # Get the central slice of the computed bounding box.\n",
    "    k = int(0.5*(cbbox[2].stop - cbbox[2].start))\n",
    "\n",
    "    # Set up the plot.\n",
    "    fig,ax = plt.subplots(1,1,figsize=(5,5))\n",
    "    ax.imshow(vol[cbbox][:,:,k], cmap=plt.cm.gray, alpha=0.5)\n",
    "\n",
    "    # Plot the annotation contours for the kth slice.\n",
    "    colors = ['r', 'g', 'b', 'y']\n",
    "    for j in range(len(masks)):\n",
    "        for c in find_contours(masks[j][:,:,k].astype(float), 0.5):\n",
    "            label = \"Annotation %d\" % (j+1)\n",
    "            plt.plot(c[:,1], c[:,0], colors[j], label=label)\n",
    "\n",
    "    # Plot the 50% consensus contour for the kth slice.\n",
    "    for c in find_contours(cmask[:,:,k].astype(float), 0.5):\n",
    "        plt.plot(c[:,1], c[:,0], '--k', label='50% Consensus')\n",
    "\n",
    "    ax.axis('off')\n",
    "    ax.legend()\n",
    "    plt.tight_layout()\n",
    "    plt.show()\n",
    "\n",
    "show_segmentation_consensus(scan, nodule_idx=1)"
   ]
  },
  {
   "cell_type": "code",
   "execution_count": 53,
   "metadata": {},
   "outputs": [
    {
     "name": "stderr",
     "output_type": "stream",
     "text": [
      "UsageError: unrecognized arguments: # to close the plot\n"
     ]
    }
   ],
   "source": [
    "from pylidc.utils import volume_viewer\n",
    "\n",
    "# to open the plot interactively:\n",
    "%matplotlib qt\n",
    "\n",
    "ann = pl.query(pl.Annotation).first()\n",
    "vol = ann.scan.to_volume(verbose=False)\n",
    "np.float = float\n",
    "padding = 120.0\n",
    "\n",
    "mask = ann.boolean_mask(pad=padding)\n",
    "bbox = ann.bbox(pad=padding)\n",
    "\n",
    "volume_viewer(vol[bbox], mask, ls='-', lw=2, c='r')\n",
    "\n",
    "# to close the plot again:\n",
    "%matplotlib inline"
   ]
  },
  {
   "cell_type": "markdown",
   "metadata": {},
   "source": [
    "# Util funcs"
   ]
  },
  {
   "cell_type": "code",
   "execution_count": 25,
   "metadata": {},
   "outputs": [
    {
     "data": {
      "text/plain": [
       "[4, 3, 4, 2, 2, 2, 2]"
      ]
     },
     "execution_count": 25,
     "metadata": {},
     "output_type": "execute_result"
    }
   ],
   "source": [
    "# all util functions\n",
    "def get_scans_by_patient_id(patient_id: str) -> list[pl.Scan]:\n",
    "    \"\"\"Returns all scans for a given patient_id\"\"\"\n",
    "    scans = pl.query(pl.Scan).filter(pl.Scan.patient_id == patient_id).all()\n",
    "    return scans\n",
    "\n",
    "\n",
    "def get_annotations_by_scan_id(scan_id: int) -> list[pl.Annotation]:\n",
    "    \"\"\"Returns all annotations for a given scan_id\"\"\"\n",
    "    annotations = pl.query(pl.Annotation).filter(pl.Annotation.scan_id == scan_id).all()\n",
    "    return annotations\n",
    "\n",
    "\n",
    "def get_annotations_by_scan(scan: pl.Scan) -> list[pl.Annotation]:\n",
    "    \"\"\"Returns all annotations for a given scan object\"\"\"\n",
    "    return scan.annotations\n",
    "\n",
    "def get_nodules_by_scan(scan: pl.Scan) -> list[pl.Annotation]:\n",
    "    \"\"\"Returns all nodules for a given scan object\"\"\"\n",
    "    return scan.cluster_annotations()\n",
    "\n",
    "\n",
    "pid_scans = get_scans_by_patient_id(\"LIDC-IDRI-0010\")\n",
    "scan_annotations = get_annotations_by_scan_id(pid_scans[0].id)\n",
    "scan_nodules = get_nodules_by_scan(pid_scans[0])\n",
    "\n",
    "# get the malignancy of each annotation:\n",
    "[s.malignancy for s in scan_annotations]"
   ]
  }
 ],
 "metadata": {
  "kernelspec": {
   "display_name": ".venv",
   "language": "python",
   "name": "python3"
  },
  "language_info": {
   "codemirror_mode": {
    "name": "ipython",
    "version": 3
   },
   "file_extension": ".py",
   "mimetype": "text/x-python",
   "name": "python",
   "nbconvert_exporter": "python",
   "pygments_lexer": "ipython3",
   "version": "3.11.4"
  }
 },
 "nbformat": 4,
 "nbformat_minor": 2
}
