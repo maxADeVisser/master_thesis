{
 "cells": [
  {
   "cell_type": "markdown",
   "metadata": {},
   "source": [
    "**REMEMBER**: add the config file `~/.pylidcrc` in the root directory that specifies where the dataset is store on your machine\n",
    "```\n",
    "[dicom]\n",
    "path = .../path/LIDC-IDRI\n",
    "warn = True\n",
    "```"
   ]
  },
  {
   "cell_type": "code",
   "execution_count": 2,
   "metadata": {},
   "outputs": [],
   "source": [
    "import pylidc as pl\n",
    "import numpy as np\n",
    "import matplotlib.pyplot as plt\n",
    "\n",
    "# to avoid error in pylidc due to deprecated types:\n",
    "np.int = int\n",
    "np.float = float"
   ]
  },
  {
   "cell_type": "markdown",
   "metadata": {},
   "source": [
    "# `Scan` class\n",
    "[see class docs here](https://pylidc.github.io/scan.html)\n",
    "- The `pylidc.Scan` class holds some (but not all!) of the DICOM attributes associated with the CT scans in the LIDC dataset. These attributes can be used to query the data.\n",
    "- A `pylidc.Scan` object has zero or more pylidc.Annotation objects, which are radiologist annotations of lung nodules found in the scan:"
   ]
  },
  {
   "cell_type": "code",
   "execution_count": null,
   "metadata": {},
   "outputs": [],
   "source": [
    "# get the first scan\n",
    "scan = pl.query(pl.Scan).first()\n",
    "print(scan.study_instance_uid)\n",
    "print(scan.series_instance_uid)\n",
    "print(scan.patient_id)\n",
    "print(scan.slice_thickness)\n",
    "print(scan.zvals)"
   ]
  },
  {
   "cell_type": "code",
   "execution_count": null,
   "metadata": {},
   "outputs": [],
   "source": [
    "# how to filter/query scans\n",
    "scans = pl.query(pl.Scan).filter(pl.Scan.slice_thickness <= 1,\n",
    "                                 pl.Scan.pixel_spacing <= 0.6).all()\n",
    "len(scans)"
   ]
  },
  {
   "cell_type": "code",
   "execution_count": null,
   "metadata": {},
   "outputs": [],
   "source": [
    "# Descriptics\n",
    "total_scan_counts = pl.query(pl.Scan).count()\n",
    "scans_with_annotations = pl.query(pl.Scan).filter(pl.Scan.annotations.any()).count()\n",
    "print(\"Total number of scans: \", total_scan_counts)\n",
    "print(\"Number of scans with annotations: \", scans_with_annotations)"
   ]
  },
  {
   "cell_type": "code",
   "execution_count": null,
   "metadata": {},
   "outputs": [],
   "source": [
    "# to open the plot interactively:\n",
    "%matplotlib qt\n",
    "\n",
    "# utils\n",
    "scan = pl.query(pl.Scan).first() # get a scan\n",
    "\n",
    "# images = scan.load_all_dicom_images(verbose=False) # load all DICOM images for this scan\n",
    "# print(len(images))\n",
    "\n",
    "# scan_dir = scan.get_path_to_dicom_files() # get the path to the DICOM files for this scan\n",
    "\n",
    "# return the scan as a 3D numpy array\n",
    "# volumne = scan.to_volume(verbose=False)\n",
    "\n",
    "# cluster the annotations\n",
    "nodules = scan.cluster_annotations()\n",
    "\n",
    "# visualise the scan\n",
    "\n",
    "scan.visualize(annotation_groups=nodules)\n",
    "\n",
    "%matplotlib inline"
   ]
  },
  {
   "cell_type": "markdown",
   "metadata": {},
   "source": [
    "# `Annotation` class\n",
    "[see class docs here](https://pylidc.github.io/annotation.html)\n",
    "\n",
    "The Nodule model class holds the information from a single physicians annotation of a nodule >= 3mm class with a particular scan. A nodule has many contours, each of which refers to the contour drawn for nodule in each scan slice.\n",
    "\n",
    "Refer to the documentation link above for semantic describtions of what the different values mean."
   ]
  },
  {
   "cell_type": "code",
   "execution_count": null,
   "metadata": {},
   "outputs": [],
   "source": [
    "# Annotation features\n",
    "pl.annotation_feature_names\n",
    "# NOTE: see semantic meaning of the feature values in the pylidc documentation"
   ]
  },
  {
   "cell_type": "code",
   "execution_count": null,
   "metadata": {},
   "outputs": [],
   "source": [
    "ann = pl.query(pl.Annotation)\\\n",
    "        .filter(pl.Annotation.spiculation > 3).first()\n",
    "\n",
    "# print the feature values\n",
    "ann.print_formatted_feature_table()"
   ]
  },
  {
   "cell_type": "code",
   "execution_count": null,
   "metadata": {},
   "outputs": [],
   "source": [
    "# Descriptics\n",
    "annotations_count = pl.query(pl.Annotation).count()\n",
    "print(\"Total number of annotations: \", annotations_count)\n",
    "\n",
    "print(\"----------------------------------------\")\n",
    "\n",
    "malignancy_counts = []\n",
    "print(\"Number of annotations by malignancy:\")\n",
    "for i in range(5):\n",
    "    ann = pl.query(pl.Annotation).filter(pl.Annotation.malignancy == i)\n",
    "    malignancy_counts.append(ann.count())\n",
    "    # print(f\"Malignancy {i +1}: {ann.count()}\")\n",
    "\n",
    "r = range(1, 5 + 1)\n",
    "plt.bar(r, malignancy_counts)\n",
    "for i, count in enumerate(malignancy_counts):\n",
    "    plt.text(i + 1, count, str(count), ha='center', va='bottom')\n",
    "plt.xlabel(\"Malignancy of a Nodule\\n(1: Highly unlikely,..., 5: Highly Suspicious)\")\n",
    "plt.show()\n",
    "\n",
    "\n",
    "print(\"----------------------------------------\")\n",
    "\n",
    "print(\"Number of annotations by subtlety:\")\n",
    "for i in range(5):\n",
    "    ann = pl.query(pl.Annotation).filter(pl.Annotation.subtlety == i)\n",
    "    print(f\"Subtlety {i +1}: {ann.count()}\")"
   ]
  },
  {
   "cell_type": "code",
   "execution_count": null,
   "metadata": {},
   "outputs": [],
   "source": [
    "malignant_count = pl.query(pl.Annotation).filter(pl.Annotation.malignancy <= 4).count()\n",
    "ambiguous_count = pl.query(pl.Annotation).filter(pl.Annotation.malignancy == 3).count()\n",
    "benign_count = pl.query(pl.Annotation).filter(pl.Annotation.malignancy <= 2).count()\n",
    "\n",
    "plt.title(\"Annotations by Malignancy\\n(in accordance with VAE papers binning)\")\n",
    "plt.bar([\"Malignant\", \"Ambiguous\", \"Benign\"], [malignant_count, ambiguous_count, benign_count])\n",
    "for i, count in enumerate([malignant_count, ambiguous_count, benign_count]):\n",
    "    plt.text(i, count, str(count), ha='center', va='bottom')\n",
    "plt.show()"
   ]
  },
  {
   "cell_type": "markdown",
   "metadata": {},
   "source": [
    "# Utils - Annotation consensus and Volume Viewer\n",
    "The `pylidc.utils.consensus()` utility accepts a list of annotations to produce a single boolean-valued volume of those annotations. It also returns the individual boolean masks for each Annotation, placed in a common frame of reference – i.e., a common bounding box, which is also returned."
   ]
  },
  {
   "cell_type": "code",
   "execution_count": null,
   "metadata": {},
   "outputs": [],
   "source": [
    "# see https://pylidc.github.io/utils.html#pylidc.utils.consensus for utils documentation\n",
    "from pylidc.utils import consensus\n",
    "from skimage.measure import find_contours\n",
    "\n",
    "def show_segmentation_consensus(scan: pl.Scan, nodule_idx: int, clevel: float = 0.5) -> None:\n",
    "    \"\"\"\n",
    "    Display the consensus segmentation for a nodule in a scan.\n",
    "\n",
    "    Args:\n",
    "        @scan: The pylidc.Scan object.\n",
    "        @nodule_idx: The index of the nodule in the scan.\n",
    "        @clevel: The consensus fraction. For example, if clevel=0.5, then a voxel will have value 1 (True) in the returned boolean volume when at least 50% of the annotations have a value of 1 at that voxel, and 0 (False) otherwise.\n",
    "        @pad: The number of slices to pad the volume by in the z-direction.\n",
    "    \"\"\"\n",
    "    # Query for a scan, and convert it to an array volume.\n",
    "    vol = scan.to_volume(verbose=False)\n",
    "\n",
    "    # Cluster the annotations for the scan, and grab one.\n",
    "    nods = scan.cluster_annotations()\n",
    "    anns = nods[nodule_idx] # TODO maybe this should be the nodule id ??\n",
    "\n",
    "    # Perform a consensus consolidation and 50% agreement level.\n",
    "    # We pad the slices to add context for viewing.\n",
    "    cmask, cbbox, masks = consensus(anns, clevel=clevel, pad=[(20,20), (20,20), (0,0)])\n",
    "\n",
    "    # Get the central slice of the computed bounding box.\n",
    "    k = int(0.5*(cbbox[2].stop - cbbox[2].start))\n",
    "\n",
    "    # Set up the plot.\n",
    "    fig,ax = plt.subplots(1,1,figsize=(5,5))\n",
    "    ax.imshow(vol[cbbox][:,:,k], cmap=plt.cm.gray, alpha=0.5)\n",
    "\n",
    "    # Plot the annotation contours for the kth slice.\n",
    "    colors = ['r', 'g', 'b', 'y']\n",
    "    for j in range(len(masks)):\n",
    "        for c in find_contours(masks[j][:,:,k].astype(float), 0.5):\n",
    "            label = \"Annotation %d\" % (j+1)\n",
    "            plt.plot(c[:,1], c[:,0], colors[j], label=label)\n",
    "\n",
    "    # Plot the 50% consensus contour for the kth slice.\n",
    "    for c in find_contours(cmask[:,:,k].astype(float), 0.5):\n",
    "        plt.plot(c[:,1], c[:,0], '--k', label='50% Consensus')\n",
    "\n",
    "    ax.axis('off')\n",
    "    ax.legend()\n",
    "    plt.tight_layout()\n",
    "    plt.show()\n",
    "\n",
    "show_segmentation_consensus(scan, nodule_idx=1)"
   ]
  },
  {
   "cell_type": "code",
   "execution_count": null,
   "metadata": {},
   "outputs": [],
   "source": [
    "from pylidc.utils import volume_viewer\n",
    "\n",
    "# to open the plot interactively:\n",
    "%matplotlib qt\n",
    "\n",
    "ann = pl.query(pl.Annotation).first()\n",
    "vol = ann.scan.to_volume(verbose=False)\n",
    "np.float = float\n",
    "padding = 120.0\n",
    "\n",
    "mask = ann.boolean_mask(pad=padding)\n",
    "bbox = ann.bbox(pad=padding)\n",
    "\n",
    "volume_viewer(vol[bbox], mask, ls='-', lw=2, c='r')\n",
    "\n",
    "# to close the plot again:\n",
    "%matplotlib inline"
   ]
  },
  {
   "cell_type": "markdown",
   "metadata": {},
   "source": [
    "# Util funcs"
   ]
  },
  {
   "cell_type": "code",
   "execution_count": null,
   "metadata": {},
   "outputs": [],
   "source": [
    "# all util functions\n",
    "def get_scans_by_patient_id(patient_id: str) -> list[pl.Scan]:\n",
    "    \"\"\"Returns all scans for a given patient_id\"\"\"\n",
    "    scans = pl.query(pl.Scan).filter(pl.Scan.patient_id == patient_id).all()\n",
    "    return scans\n",
    "\n",
    "\n",
    "def get_annotations_by_scan_id(scan_id: int) -> list[pl.Annotation]:\n",
    "    \"\"\"Returns all annotations for a given scan_id\"\"\"\n",
    "    annotations = pl.query(pl.Annotation).filter(pl.Annotation.scan_id == scan_id).all()\n",
    "    return annotations\n",
    "\n",
    "\n",
    "def get_annotations_by_scan(scan: pl.Scan) -> list[pl.Annotation]:\n",
    "    \"\"\"Returns all annotations for a given scan object\"\"\"\n",
    "    return scan.annotations\n",
    "\n",
    "def get_nodules_by_scan(scan: pl.Scan) -> list[pl.Annotation]:\n",
    "    \"\"\"Returns all nodules for a given scan object\"\"\"\n",
    "    return scan.cluster_annotations()\n",
    "\n",
    "\n",
    "pid_scans = get_scans_by_patient_id(\"LIDC-IDRI-0010\")\n",
    "scan_annotations = get_annotations_by_scan_id(pid_scans[0].id)\n",
    "scan_nodules = get_nodules_by_scan(pid_scans[0])\n",
    "\n",
    "# get the malignancy of each annotation:\n",
    "[s.malignancy for s in scan_annotations]"
   ]
  }
 ],
 "metadata": {
  "kernelspec": {
   "display_name": ".venv",
   "language": "python",
   "name": "python3"
  },
  "language_info": {
   "codemirror_mode": {
    "name": "ipython",
    "version": 3
   },
   "file_extension": ".py",
   "mimetype": "text/x-python",
   "name": "python",
   "nbconvert_exporter": "python",
   "pygments_lexer": "ipython3",
   "version": "3.11.4"
  }
 },
 "nbformat": 4,
 "nbformat_minor": 2
}
