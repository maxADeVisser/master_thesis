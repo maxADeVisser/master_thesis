{
 "cells": [
  {
   "cell_type": "code",
   "execution_count": 1,
   "metadata": {
    "ExecuteTime": {
     "end_time": "2024-09-15T13:31:11.186655Z",
     "start_time": "2024-09-15T13:31:11.080390Z"
    }
   },
   "outputs": [
    {
     "ename": "ModuleNotFoundError",
     "evalue": "No module named 'pydicom'",
     "output_type": "error",
     "traceback": [
      "\u001b[0;31m---------------------------------------------------------------------------\u001b[0m",
      "\u001b[0;31mModuleNotFoundError\u001b[0m                       Traceback (most recent call last)",
      "Cell \u001b[0;32mIn [1], line 2\u001b[0m\n\u001b[1;32m      1\u001b[0m \u001b[38;5;28;01mimport\u001b[39;00m \u001b[38;5;21;01mos\u001b[39;00m\n\u001b[0;32m----> 2\u001b[0m \u001b[38;5;28;01mimport\u001b[39;00m \u001b[38;5;21;01mpydicom\u001b[39;00m\n\u001b[1;32m      3\u001b[0m \u001b[38;5;28;01mimport\u001b[39;00m \u001b[38;5;21;01mnumpy\u001b[39;00m \u001b[38;5;28;01mas\u001b[39;00m \u001b[38;5;21;01mnp\u001b[39;00m\n\u001b[1;32m      4\u001b[0m \u001b[38;5;28;01mimport\u001b[39;00m \u001b[38;5;21;01mmatplotlib\u001b[39;00m\u001b[38;5;21;01m.\u001b[39;00m\u001b[38;5;21;01mpyplot\u001b[39;00m \u001b[38;5;28;01mas\u001b[39;00m \u001b[38;5;21;01mplt\u001b[39;00m\n",
      "\u001b[0;31mModuleNotFoundError\u001b[0m: No module named 'pydicom'"
     ]
    }
   ],
   "source": [
    "import os\n",
    "import pydicom\n",
    "import numpy as np\n",
    "import matplotlib.pyplot as plt\n",
    "import xml.etree.ElementTree as ET\n",
    "import cv2\n",
    "from ipywidgets import interact, IntSlider, FloatSlider, fixed, Button, HBox, VBox, Output\n",
    "\n",
    "# Function to load DICOM files from a directory\n",
    "def load_dicom_images_from_folder(folder_path):\n",
    "    dicom_files = [pydicom.dcmread(os.path.join(folder_path, f)) for f in sorted(os.listdir(folder_path)) if f.endswith(\".dcm\")]\n",
    "    images = np.stack([f.pixel_array for f in dicom_files], axis=0)\n",
    "    return images\n",
    "\n",
    "# Function to display a single image with adjustable size\n",
    "def show_image(slice_index, zoom, images):\n",
    "    plt.figure(figsize=(zoom * 6, zoom * 6))  # Adjust the size of the figure based on zoom\n",
    "    plt.imshow(images[slice_index], cmap=\"gray\")\n",
    "    plt.axis('off')\n",
    "    plt.show()"
   ]
  },
  {
   "cell_type": "code",
   "execution_count": 76,
   "metadata": {},
   "outputs": [
    {
     "name": "stdout",
     "output_type": "stream",
     "text": [
      "Malignancy 1: 0\n",
      "Malignancy 2: 1020\n",
      "Malignancy 3: 1580\n",
      "Malignancy 4: 2606\n",
      "Malignancy 5: 962\n"
     ]
    }
   ],
   "source": [
    "import pylidc as pl\n",
    "\n",
    "# ann = pl.query(pl.Annotation).first()\n",
    "# print(ann.scan.patient_id)\n",
    "\n",
    "for i in range(5):\n",
    "    ann = pl.query(pl.Annotation).filter(pl.Annotation.malignancy == i)\n",
    "    print(f\"Malignancy {i +1}: {ann.count()}\")"
   ]
  },
  {
   "cell_type": "code",
   "execution_count": 80,
   "metadata": {},
   "outputs": [
    {
     "name": "stdout",
     "output_type": "stream",
     "text": [
      "1 Highly Unlikely\n",
      "5 Sharp\n"
     ]
    }
   ],
   "source": [
    "ann = pl.query(pl.Annotation)\\\n",
    "        .filter(pl.Annotation.malignancy == 1).first()\n",
    "\n",
    "print(ann.malignancy, ann.Malignancy)\n",
    "# print(ann.margin, ann.Margin)"
   ]
  },
  {
   "cell_type": "code",
   "execution_count": 26,
   "metadata": {},
   "outputs": [],
   "source": [
    "\n",
    "# Data Loading function to parse XML annotations\n",
    "def parse_annotation(xml_file):\n",
    "    tree = ET.parse(xml_file)\n",
    "    root = tree.getroot()\n",
    "\n",
    "    malignancy_scores = []\n",
    "    for nodule in root.findall('.//readingSession/uncertainNodule'):\n",
    "        malignancy = nodule.find('malignancy').text\n",
    "        malignancy_scores.append(int(malignancy))\n",
    "\n",
    "    return np.mean(malignancy_scores) if malignancy_scores else None\n",
    "\n",
    "def load_data(data_dir, annotation_dir):\n",
    "    data = []\n",
    "\n",
    "    for patient_id in os.listdir(data_dir):\n",
    "        patient_path = os.path.join(data_dir, patient_id)\n",
    "        for nodule_id in os.listdir(patient_path):\n",
    "            nodule_path = os.path.join(patient_path, nodule_id)\n",
    "            images_path = os.path.join(nodule_path, 'images')\n",
    "            mask_paths = [os.path.join(nodule_path, f'mask-{i}') for i in range(4)]  # Handle multiple masks\n",
    "\n",
    "            # Parse corresponding annotation XML\n",
    "            xml_file = os.path.join(annotation_dir, f\"{patient_id}_{nodule_id}.xml\")\n",
    "            label = parse_annotation(xml_file)\n",
    "\n",
    "            try:\n",
    "                image_slices = [cv2.imread(os.path.join(images_path, img), cv2.IMREAD_GRAYSCALE) for img in sorted(os.listdir(images_path))]\n",
    "                if not image_slices:\n",
    "                    continue\n",
    "\n",
    "                mask_slices = []\n",
    "                for mask_path in mask_paths:\n",
    "                    if os.path.exists(mask_path):\n",
    "                        mask_slices += [cv2.imread(os.path.join(mask_path, img), cv2.IMREAD_GRAYSCALE) for img in sorted(os.listdir(mask_path))]\n",
    "\n",
    "                if not mask_slices:\n",
    "                    continue\n",
    "\n",
    "                image_slices = [cv2.resize(slice, (256, 256)) for slice in image_slices]\n",
    "                mask_slices = [cv2.resize(slice, (256, 256)) for slice in mask_slices]\n",
    "\n",
    "                # Combine masks (e.g., averaging)\n",
    "                combined_mask = np.mean(mask_slices, axis=0)\n",
    "\n",
    "                # Label assignment\n",
    "                if label is not None:\n",
    "                    data.append((np.array(image_slices), combined_mask, label))\n",
    "            except Exception as e:\n",
    "                print(f\"Error processing {nodule_id}: {e}\")\n",
    "\n",
    "    return data"
   ]
  },
  {
   "cell_type": "code",
   "execution_count": 62,
   "metadata": {},
   "outputs": [
    {
     "name": "stdout",
     "output_type": "stream",
     "text": [
      "Root: {http://www.nih.gov}LidcReadMessage\n",
      "Second level:\n",
      "{http://www.nih.gov}ResponseHeader\n",
      "{http://www.nih.gov}readingSession\n",
      "{http://www.nih.gov}readingSession\n",
      "{http://www.nih.gov}readingSession\n",
      "{http://www.nih.gov}readingSession\n",
      "Third level:\n",
      "{http://www.nih.gov}annotationVersion\n",
      "{http://www.nih.gov}servicingRadiologistID\n",
      "{http://www.nih.gov}unblindedReadNodule\n",
      "{http://www.nih.gov}unblindedReadNodule\n",
      "{http://www.nih.gov}unblindedReadNodule\n",
      "{http://www.nih.gov}unblindedReadNodule\n",
      "{http://www.nih.gov}nonNodule\n",
      "{http://www.nih.gov}nonNodule\n",
      "{http://www.nih.gov}nonNodule\n",
      "{http://www.nih.gov}nonNodule\n",
      "{http://www.nih.gov}nonNodule\n"
     ]
    }
   ],
   "source": [
    "# DEBUGGING XML PARSER FUNC\n",
    "\n",
    "xml_file = \"/Users/newuser/Documents/ITU/master_thesis/data/lung_data/LIDC-XML-only/tcia-lidc-xml/188/000.xml\"\n",
    "tree = ET.parse(xml_file)\n",
    "# Define the XML namespace and assign a prefix\n",
    "namespace = {'nih': 'http://www.nih.gov'}\n",
    "\n",
    "# # Parse the XML file\n",
    "tree = ET.parse(xml_file)\n",
    "root = tree.getroot()\n",
    "print(f\"Root: {root.tag}\")\n",
    "\n",
    "print(\"Second level:\")\n",
    "for i in root:\n",
    "    print(i.tag)\n",
    "\n",
    "print(\"Third level:\")\n",
    "for i in root[1]:\n",
    "    print(i.tag)\n",
    "\n",
    "# there is only a single RseponseHeader\n",
    "response_header = root.find(\"nih:ResponseHeader\", namespace)\n",
    "\n",
    "reading_sessions = root.findall(\"nih:readingSession\", namespace)\n",
    "\n",
    "# for r in reading_sessions:\n",
    "#     annotation_version = r.find('nih:annotationVersion', namespace).text\n",
    "#     print(annotation_version)\n",
    "\n",
    "\n",
    "\n",
    "# for child in root:\n",
    "#     print(child.tag, child.attrib)\n",
    "\n",
    "# maglinancy_scores = []\n",
    "\n",
    "# for nodule in root.findall('.//nih:readingSession/nih:unblindedReadNodule', namespace):\n",
    "#     characteristics = nodule.find('nih:characteristics', namespace)\n",
    "#     print(characteristics)\n",
    "#     break\n",
    "\n",
    "\n",
    "# # Extract data from the ResponseHeader section\n",
    "# response_header = root.find('nih:ResponseHeader', namespace)\n",
    "# if response_header is not None:\n",
    "#     version = response_header.find('nih:Version', namespace).text\n",
    "#     message_id = response_header.find('nih:MessageId', namespace).text\n",
    "#     series_instance_uid = response_header.find('nih:SeriesInstanceUid', namespace).text\n",
    "#     study_instance_uid = response_header.find('nih:StudyInstanceUID', namespace).text\n",
    "\n",
    "#     print(f\"Version: {version}\")\n",
    "#     print(f\"Message ID: {message_id}\")\n",
    "#     print(f\"Series Instance UID: {series_instance_uid}\")\n",
    "#     print(f\"Study Instance UID: {study_instance_uid}\")\n",
    "\n",
    "# # Iterate over each readingSession -> unblindedReadNodule\n",
    "# for reading_session in root.findall('nih:readingSession', namespace):\n",
    "#     annotation_version = reading_session.find('nih:annotationVersion', namespace).text\n",
    "#     servicing_radiologist_id = reading_session.find('nih:servicingRadiologistID', namespace).text\n",
    "#     print(f\"Annotation Version: {annotation_version}\")\n",
    "#     print(f\"Servicing Radiologist ID: {servicing_radiologist_id}\")\n",
    "\n",
    "#     for nodule in reading_session.findall('nih:unblindedReadNodule', namespace):\n",
    "#         nodule_id = nodule.find('nih:noduleID', namespace).text\n",
    "#         print(f\"Nodule ID: {nodule_id}\")\n",
    "\n",
    "#         for roi in nodule.findall('nih:roi', namespace):\n",
    "#             image_z_position = roi.find('nih:imageZposition', namespace).text\n",
    "#             image_sop_uid = roi.find('nih:imageSOP_UID', namespace).text\n",
    "#             inclusion = roi.find('nih:inclusion', namespace).text\n",
    "#             print(f\"Image Z Position: {image_z_position}\")\n",
    "#             print(f\"Image SOP UID: {image_sop_uid}\")\n",
    "#             print(f\"Inclusion: {inclusion}\")\n",
    "\n",
    "#             for edge_map in roi.findall('nih:edgeMap', namespace):\n",
    "#                 x_coord = edge_map.find('nih:xCoord', namespace).text\n",
    "#                 y_coord = edge_map.find('nih:yCoord', namespace).text\n",
    "#                 print(f\"Edge Map X Coord: {x_coord}, Y Coord: {y_coord}\")\n",
    "\n",
    "#         print(\"-------------------------\")"
   ]
  },
  {
   "cell_type": "markdown",
   "metadata": {},
   "source": [
    "# OLD CODE:"
   ]
  },
  {
   "cell_type": "code",
   "execution_count": null,
   "metadata": {},
   "outputs": [],
   "source": [
    "from glob import glob\n",
    "annotation_dir_path = \"/Users/newuser/Documents/ITU/master_thesis/data/lung_data/LIDC-XML-only/tcia-lidc-xml/188/\"\n",
    "\n",
    "xml_files = sorted(glob(f\"{annotation_dir_path}/*.xml\"))\n",
    "\n",
    "for f in xml_files:\n",
    "    print(parse_annotation(f))\n",
    "\n",
    "# parse_annotation(\"/Users/newuser/Documents/ITU/master_thesis/data/lung_data/LIDC-XML-only/tcia-lidc-xml/188/000.xml\")"
   ]
  },
  {
   "cell_type": "code",
   "execution_count": null,
   "metadata": {},
   "outputs": [],
   "source": [
    "data_dir = \"/Users/newuser/Documents/ITU/master_thesis/data/lung_data/manifest-1725363397135/LIDC-IDRI/\"\n",
    "annotation_dir = \"/kaggle/input/annotaion/tcia-lidc-xml/188\"  # Update with correct path\n",
    "data = load_data(data_dir, annotation_dir)"
   ]
  },
  {
   "cell_type": "code",
   "execution_count": 9,
   "metadata": {},
   "outputs": [
    {
     "data": {
      "application/vnd.jupyter.widget-view+json": {
       "model_id": "1ded2eadd7b443fa96469e05dbe25e9d",
       "version_major": 2,
       "version_minor": 0
      },
      "text/plain": [
       "interactive(children=(IntSlider(value=0, description='Slice:', max=132), FloatSlider(value=1.0, description='Z…"
      ]
     },
     "metadata": {},
     "output_type": "display_data"
    }
   ],
   "source": [
    "# Path to the directory containing DICOM files\n",
    "folder_path = '/Users/newuser/Documents/ITU/master_thesis/data/lung_data/manifest-1725363397135/LIDC-IDRI/LIDC-IDRI-0001/01-01-2000-NA-NA-30178/3000566.000000-NA-03192/'\n",
    "\n",
    "# Load the images\n",
    "images = load_dicom_images_from_folder(folder_path)\n",
    "\n",
    "# Create sliders for slice index and zoom\n",
    "slice_slider = IntSlider(min=0, max=images.shape[0]-1, step=1, value=0, description='Slice:')\n",
    "zoom_slider = FloatSlider(min=0.5, max=3.0, step=0.1, value=1.0, description='Zoom:')\n",
    "\n",
    "# Create the interactive widget\n",
    "interact(show_image, slice_index=slice_slider, zoom=zoom_slider, images=fixed(images));"
   ]
  },
  {
   "cell_type": "code",
   "execution_count": 3,
   "metadata": {},
   "outputs": [
    {
     "data": {
      "application/vnd.jupyter.widget-view+json": {
       "model_id": "e7ab0c3536e94a42b80ce5efad7ffcab",
       "version_major": 2,
       "version_minor": 0
      },
      "text/plain": [
       "interactive(children=(IntSlider(value=0, description='Slice:', max=132), FloatSlider(value=1.0, description='Z…"
      ]
     },
     "metadata": {},
     "output_type": "display_data"
    },
    {
     "data": {
      "application/vnd.jupyter.widget-view+json": {
       "model_id": "851be55fc92e49ff8b211cef42352b73",
       "version_major": 2,
       "version_minor": 0
      },
      "text/plain": [
       "VBox(children=(HBox(children=(Button(description='Backward', style=ButtonStyle()), Button(description='Forward…"
      ]
     },
     "metadata": {},
     "output_type": "display_data"
    }
   ],
   "source": [
    "import os\n",
    "import pydicom\n",
    "import numpy as np\n",
    "import matplotlib.pyplot as plt\n",
    "from ipywidgets import interact, IntSlider, FloatSlider, fixed, Button, HBox, VBox, Output\n",
    "\n",
    "# Function to load DICOM files from a directory\n",
    "def load_dicom_images_from_folder(folder_path):\n",
    "    dicom_files = [pydicom.dcmread(os.path.join(folder_path, f)) for f in sorted(os.listdir(folder_path)) if f.endswith(\".dcm\")]\n",
    "    images = np.stack([f.pixel_array for f in dicom_files], axis=0)\n",
    "    return images\n",
    "\n",
    "# Function to display a single image with adjustable size\n",
    "def show_image(slice_index, zoom, images):\n",
    "    plt.figure(figsize=(zoom * 6, zoom * 6))  # Adjust the size of the figure based on zoom\n",
    "    plt.imshow(images[slice_index], cmap=\"gray\")\n",
    "    plt.axis('off')\n",
    "    plt.show()\n",
    "\n",
    "# Function to update the image based on the slider and zoom\n",
    "def update_image(slice_index, zoom, images):\n",
    "    show_image(slice_index, zoom, images)\n",
    "\n",
    "# Function to handle forward button click\n",
    "def on_forward_button_clicked(b):\n",
    "    global current_slice\n",
    "    if current_slice < images.shape[0] - 1:\n",
    "        current_slice += 1\n",
    "        slice_slider.value = current_slice  # Update the slider value\n",
    "        update_display(current_slice, zoom_slider.value, images)  # Update the display\n",
    "\n",
    "# Function to handle backward button click\n",
    "def on_backward_button_clicked(b):\n",
    "    global current_slice\n",
    "    if current_slice > 0:\n",
    "        current_slice -= 1\n",
    "        slice_slider.value = current_slice  # Update the slider value\n",
    "        update_display(current_slice, zoom_slider.value, images)  # Update the display\n",
    "\n",
    "# Path to the directory containing DICOM files\n",
    "folder_path = '/Users/newuser/Documents/ITU/master_thesis/data/lung_data/manifest-1725363397135/LIDC-IDRI/LIDC-IDRI-0001/01-01-2000-NA-NA-30178/3000566.000000-NA-03192/'\n",
    "\n",
    "# Load the images\n",
    "images = load_dicom_images_from_folder(folder_path)\n",
    "\n",
    "# Initialize the current slice index\n",
    "current_slice = 0\n",
    "\n",
    "# Create sliders for slice index and zoom\n",
    "slice_slider = IntSlider(min=0, max=images.shape[0]-1, step=1, value=current_slice, description='Slice:')\n",
    "zoom_slider = FloatSlider(min=0.5, max=3.0, step=0.1, value=1.0, description='Zoom:')\n",
    "\n",
    "# Create buttons for forward and backward navigation\n",
    "forward_button = Button(description=\"Forward\")\n",
    "backward_button = Button(description=\"Backward\")\n",
    "\n",
    "# Attach button click handlers\n",
    "forward_button.on_click(on_forward_button_clicked)\n",
    "backward_button.on_click(on_backward_button_clicked)\n",
    "\n",
    "# Create output widget to display the images\n",
    "out = Output()\n",
    "\n",
    "# Update the image display function to use the output widget\n",
    "def update_display(slice_index, zoom, images):\n",
    "    with out:\n",
    "        out.clear_output(wait=True)\n",
    "        show_image(slice_index, zoom, images)\n",
    "\n",
    "# Link the widgets to the display function\n",
    "interact(update_display, slice_index=slice_slider, zoom=zoom_slider, images=fixed(images));\n",
    "\n",
    "# Display the buttons\n",
    "VBox([HBox([backward_button, forward_button]),out])"
   ]
  }
 ],
 "metadata": {
  "kernelspec": {
   "display_name": ".venv",
   "language": "python",
   "name": "python3"
  },
  "language_info": {
   "codemirror_mode": {
    "name": "ipython",
    "version": 3
   },
   "file_extension": ".py",
   "mimetype": "text/x-python",
   "name": "python",
   "nbconvert_exporter": "python",
   "pygments_lexer": "ipython3",
   "version": "3.11.4"
  }
 },
 "nbformat": 4,
 "nbformat_minor": 2
}
