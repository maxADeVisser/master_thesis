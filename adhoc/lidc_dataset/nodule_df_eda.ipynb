{
 "cells": [
  {
   "cell_type": "markdown",
   "metadata": {},
   "source": [
    "This notebook explores the nodule dataframe created by the script `preprocessing/create_nodule_df.py`"
   ]
  },
  {
   "cell_type": "code",
   "execution_count": 4,
   "metadata": {},
   "outputs": [
    {
     "data": {
      "text/plain": [
       "(2625, 52)"
      ]
     },
     "metadata": {},
     "output_type": "display_data"
    },
    {
     "data": {
      "text/html": [
       "<div>\n",
       "<style scoped>\n",
       "    .dataframe tbody tr th:only-of-type {\n",
       "        vertical-align: middle;\n",
       "    }\n",
       "\n",
       "    .dataframe tbody tr th {\n",
       "        vertical-align: top;\n",
       "    }\n",
       "\n",
       "    .dataframe thead th {\n",
       "        text-align: right;\n",
       "    }\n",
       "</style>\n",
       "<table border=\"1\" class=\"dataframe\">\n",
       "  <thead>\n",
       "    <tr style=\"text-align: right;\">\n",
       "      <th></th>\n",
       "      <th>nodule_id</th>\n",
       "      <th>scan_id</th>\n",
       "      <th>nodule_idx</th>\n",
       "      <th>scan_slice_thickness</th>\n",
       "      <th>scan_slice_spacing</th>\n",
       "      <th>scan_pixel_spacing</th>\n",
       "      <th>scan_contrast_used</th>\n",
       "      <th>malignancy_scores</th>\n",
       "      <th>subtlety_scores</th>\n",
       "      <th>ann_internalStructure_scores</th>\n",
       "      <th>...</th>\n",
       "      <th>bbox_10_standardised</th>\n",
       "      <th>bbox_20_standardised</th>\n",
       "      <th>bbox_30_standardised</th>\n",
       "      <th>bbox_40_standardised</th>\n",
       "      <th>bbox_50_standardised</th>\n",
       "      <th>bbox_60_standardised</th>\n",
       "      <th>bbox_70_standardised</th>\n",
       "      <th>bbox_80_standardised</th>\n",
       "      <th>bbox_90_standardised</th>\n",
       "      <th>bbox_100_standardised</th>\n",
       "    </tr>\n",
       "  </thead>\n",
       "  <tbody>\n",
       "    <tr>\n",
       "      <th>0</th>\n",
       "      <td>LIDC-IDRI-0001_0</td>\n",
       "      <td>LIDC-IDRI-0001</td>\n",
       "      <td>0</td>\n",
       "      <td>2.50</td>\n",
       "      <td>2.50</td>\n",
       "      <td>0.703125</td>\n",
       "      <td>True</td>\n",
       "      <td>(5, 5, 5, 4)</td>\n",
       "      <td>(5, 5, 5, 5)</td>\n",
       "      <td>(1, 1, 1, 1)</td>\n",
       "      <td>...</td>\n",
       "      <td>True</td>\n",
       "      <td>True</td>\n",
       "      <td>True</td>\n",
       "      <td>True</td>\n",
       "      <td>True</td>\n",
       "      <td>True</td>\n",
       "      <td>True</td>\n",
       "      <td>True</td>\n",
       "      <td>True</td>\n",
       "      <td>True</td>\n",
       "    </tr>\n",
       "    <tr>\n",
       "      <th>1</th>\n",
       "      <td>LIDC-IDRI-0002_0</td>\n",
       "      <td>LIDC-IDRI-0002</td>\n",
       "      <td>0</td>\n",
       "      <td>1.25</td>\n",
       "      <td>1.25</td>\n",
       "      <td>0.681641</td>\n",
       "      <td>False</td>\n",
       "      <td>(5, 4)</td>\n",
       "      <td>(2, 1)</td>\n",
       "      <td>(1, 1)</td>\n",
       "      <td>...</td>\n",
       "      <td>True</td>\n",
       "      <td>True</td>\n",
       "      <td>True</td>\n",
       "      <td>True</td>\n",
       "      <td>True</td>\n",
       "      <td>True</td>\n",
       "      <td>True</td>\n",
       "      <td>True</td>\n",
       "      <td>True</td>\n",
       "      <td>True</td>\n",
       "    </tr>\n",
       "    <tr>\n",
       "      <th>2</th>\n",
       "      <td>LIDC-IDRI-0003_0</td>\n",
       "      <td>LIDC-IDRI-0003</td>\n",
       "      <td>0</td>\n",
       "      <td>2.50</td>\n",
       "      <td>2.50</td>\n",
       "      <td>0.820312</td>\n",
       "      <td>True</td>\n",
       "      <td>(2,)</td>\n",
       "      <td>(1,)</td>\n",
       "      <td>(1,)</td>\n",
       "      <td>...</td>\n",
       "      <td>True</td>\n",
       "      <td>True</td>\n",
       "      <td>True</td>\n",
       "      <td>True</td>\n",
       "      <td>True</td>\n",
       "      <td>True</td>\n",
       "      <td>True</td>\n",
       "      <td>True</td>\n",
       "      <td>True</td>\n",
       "      <td>True</td>\n",
       "    </tr>\n",
       "  </tbody>\n",
       "</table>\n",
       "<p>3 rows × 52 columns</p>\n",
       "</div>"
      ],
      "text/plain": [
       "          nodule_id         scan_id  nodule_idx  scan_slice_thickness  \\\n",
       "0  LIDC-IDRI-0001_0  LIDC-IDRI-0001           0                  2.50   \n",
       "1  LIDC-IDRI-0002_0  LIDC-IDRI-0002           0                  1.25   \n",
       "2  LIDC-IDRI-0003_0  LIDC-IDRI-0003           0                  2.50   \n",
       "\n",
       "   scan_slice_spacing  scan_pixel_spacing  scan_contrast_used  \\\n",
       "0                2.50            0.703125                True   \n",
       "1                1.25            0.681641               False   \n",
       "2                2.50            0.820312                True   \n",
       "\n",
       "  malignancy_scores subtlety_scores ann_internalStructure_scores  ...  \\\n",
       "0      (5, 5, 5, 4)    (5, 5, 5, 5)                 (1, 1, 1, 1)  ...   \n",
       "1            (5, 4)          (2, 1)                       (1, 1)  ...   \n",
       "2              (2,)            (1,)                         (1,)  ...   \n",
       "\n",
       "  bbox_10_standardised bbox_20_standardised bbox_30_standardised  \\\n",
       "0                 True                 True                 True   \n",
       "1                 True                 True                 True   \n",
       "2                 True                 True                 True   \n",
       "\n",
       "  bbox_40_standardised bbox_50_standardised bbox_60_standardised  \\\n",
       "0                 True                 True                 True   \n",
       "1                 True                 True                 True   \n",
       "2                 True                 True                 True   \n",
       "\n",
       "  bbox_70_standardised  bbox_80_standardised  bbox_90_standardised  \\\n",
       "0                 True                  True                  True   \n",
       "1                 True                  True                  True   \n",
       "2                 True                  True                  True   \n",
       "\n",
       "   bbox_100_standardised  \n",
       "0                   True  \n",
       "1                   True  \n",
       "2                   True  \n",
       "\n",
       "[3 rows x 52 columns]"
      ]
     },
     "execution_count": 4,
     "metadata": {},
     "output_type": "execute_result"
    }
   ],
   "source": [
    "from utils.common_imports import *\n",
    "from project_config import env_config\n",
    "import matplotlib.pyplot as plt\n",
    "\n",
    "df = pd.read_csv(f\"{env_config.nodule_df_file}\")\n",
    "df_hold_out_set = pd.read_csv(f\"{env_config.hold_out_nodule_df_file}\")\n",
    "display(df.shape)\n",
    "df.head(3)"
   ]
  },
  {
   "cell_type": "code",
   "execution_count": 3,
   "metadata": {},
   "outputs": [
    {
     "ename": "KeyError",
     "evalue": "'pid'",
     "output_type": "error",
     "traceback": [
      "\u001b[0;31m---------------------------------------------------------------------------\u001b[0m",
      "\u001b[0;31mKeyError\u001b[0m                                  Traceback (most recent call last)",
      "File \u001b[0;32m~/Documents/ITU/master_thesis/.venv/lib/python3.11/site-packages/pandas/core/indexes/base.py:3805\u001b[0m, in \u001b[0;36mIndex.get_loc\u001b[0;34m(self, key)\u001b[0m\n\u001b[1;32m   3804\u001b[0m \u001b[38;5;28;01mtry\u001b[39;00m:\n\u001b[0;32m-> 3805\u001b[0m     \u001b[38;5;28;01mreturn\u001b[39;00m \u001b[38;5;28;43mself\u001b[39;49m\u001b[38;5;241;43m.\u001b[39;49m\u001b[43m_engine\u001b[49m\u001b[38;5;241;43m.\u001b[39;49m\u001b[43mget_loc\u001b[49m\u001b[43m(\u001b[49m\u001b[43mcasted_key\u001b[49m\u001b[43m)\u001b[49m\n\u001b[1;32m   3806\u001b[0m \u001b[38;5;28;01mexcept\u001b[39;00m \u001b[38;5;167;01mKeyError\u001b[39;00m \u001b[38;5;28;01mas\u001b[39;00m err:\n",
      "File \u001b[0;32mindex.pyx:167\u001b[0m, in \u001b[0;36mpandas._libs.index.IndexEngine.get_loc\u001b[0;34m()\u001b[0m\n",
      "File \u001b[0;32mindex.pyx:196\u001b[0m, in \u001b[0;36mpandas._libs.index.IndexEngine.get_loc\u001b[0;34m()\u001b[0m\n",
      "File \u001b[0;32mpandas/_libs/hashtable_class_helper.pxi:7081\u001b[0m, in \u001b[0;36mpandas._libs.hashtable.PyObjectHashTable.get_item\u001b[0;34m()\u001b[0m\n",
      "File \u001b[0;32mpandas/_libs/hashtable_class_helper.pxi:7089\u001b[0m, in \u001b[0;36mpandas._libs.hashtable.PyObjectHashTable.get_item\u001b[0;34m()\u001b[0m\n",
      "\u001b[0;31mKeyError\u001b[0m: 'pid'",
      "\nThe above exception was the direct cause of the following exception:\n",
      "\u001b[0;31mKeyError\u001b[0m                                  Traceback (most recent call last)",
      "Cell \u001b[0;32mIn[3], line 2\u001b[0m\n\u001b[1;32m      1\u001b[0m \u001b[38;5;66;03m# verify that no pids in the holdout set are in the processed nodule df\u001b[39;00m\n\u001b[0;32m----> 2\u001b[0m hold_out_pids \u001b[38;5;241m=\u001b[39m \u001b[38;5;28mset\u001b[39m(\u001b[43mdf_hold_out_set\u001b[49m\u001b[43m[\u001b[49m\u001b[38;5;124;43m\"\u001b[39;49m\u001b[38;5;124;43mpid\u001b[39;49m\u001b[38;5;124;43m\"\u001b[39;49m\u001b[43m]\u001b[49m)\n\u001b[1;32m      3\u001b[0m \u001b[38;5;28;01mfor\u001b[39;00m p \u001b[38;5;129;01min\u001b[39;00m \u001b[38;5;28mset\u001b[39m(df[\u001b[38;5;124m\"\u001b[39m\u001b[38;5;124mpid\u001b[39m\u001b[38;5;124m\"\u001b[39m]):\n\u001b[1;32m      4\u001b[0m     \u001b[38;5;28;01mif\u001b[39;00m p \u001b[38;5;129;01min\u001b[39;00m hold_out_pids:\n",
      "File \u001b[0;32m~/Documents/ITU/master_thesis/.venv/lib/python3.11/site-packages/pandas/core/frame.py:4102\u001b[0m, in \u001b[0;36mDataFrame.__getitem__\u001b[0;34m(self, key)\u001b[0m\n\u001b[1;32m   4100\u001b[0m \u001b[38;5;28;01mif\u001b[39;00m \u001b[38;5;28mself\u001b[39m\u001b[38;5;241m.\u001b[39mcolumns\u001b[38;5;241m.\u001b[39mnlevels \u001b[38;5;241m>\u001b[39m \u001b[38;5;241m1\u001b[39m:\n\u001b[1;32m   4101\u001b[0m     \u001b[38;5;28;01mreturn\u001b[39;00m \u001b[38;5;28mself\u001b[39m\u001b[38;5;241m.\u001b[39m_getitem_multilevel(key)\n\u001b[0;32m-> 4102\u001b[0m indexer \u001b[38;5;241m=\u001b[39m \u001b[38;5;28;43mself\u001b[39;49m\u001b[38;5;241;43m.\u001b[39;49m\u001b[43mcolumns\u001b[49m\u001b[38;5;241;43m.\u001b[39;49m\u001b[43mget_loc\u001b[49m\u001b[43m(\u001b[49m\u001b[43mkey\u001b[49m\u001b[43m)\u001b[49m\n\u001b[1;32m   4103\u001b[0m \u001b[38;5;28;01mif\u001b[39;00m is_integer(indexer):\n\u001b[1;32m   4104\u001b[0m     indexer \u001b[38;5;241m=\u001b[39m [indexer]\n",
      "File \u001b[0;32m~/Documents/ITU/master_thesis/.venv/lib/python3.11/site-packages/pandas/core/indexes/base.py:3812\u001b[0m, in \u001b[0;36mIndex.get_loc\u001b[0;34m(self, key)\u001b[0m\n\u001b[1;32m   3807\u001b[0m     \u001b[38;5;28;01mif\u001b[39;00m \u001b[38;5;28misinstance\u001b[39m(casted_key, \u001b[38;5;28mslice\u001b[39m) \u001b[38;5;129;01mor\u001b[39;00m (\n\u001b[1;32m   3808\u001b[0m         \u001b[38;5;28misinstance\u001b[39m(casted_key, abc\u001b[38;5;241m.\u001b[39mIterable)\n\u001b[1;32m   3809\u001b[0m         \u001b[38;5;129;01mand\u001b[39;00m \u001b[38;5;28many\u001b[39m(\u001b[38;5;28misinstance\u001b[39m(x, \u001b[38;5;28mslice\u001b[39m) \u001b[38;5;28;01mfor\u001b[39;00m x \u001b[38;5;129;01min\u001b[39;00m casted_key)\n\u001b[1;32m   3810\u001b[0m     ):\n\u001b[1;32m   3811\u001b[0m         \u001b[38;5;28;01mraise\u001b[39;00m InvalidIndexError(key)\n\u001b[0;32m-> 3812\u001b[0m     \u001b[38;5;28;01mraise\u001b[39;00m \u001b[38;5;167;01mKeyError\u001b[39;00m(key) \u001b[38;5;28;01mfrom\u001b[39;00m \u001b[38;5;21;01merr\u001b[39;00m\n\u001b[1;32m   3813\u001b[0m \u001b[38;5;28;01mexcept\u001b[39;00m \u001b[38;5;167;01mTypeError\u001b[39;00m:\n\u001b[1;32m   3814\u001b[0m     \u001b[38;5;66;03m# If we have a listlike key, _check_indexing_error will raise\u001b[39;00m\n\u001b[1;32m   3815\u001b[0m     \u001b[38;5;66;03m#  InvalidIndexError. Otherwise we fall through and re-raise\u001b[39;00m\n\u001b[1;32m   3816\u001b[0m     \u001b[38;5;66;03m#  the TypeError.\u001b[39;00m\n\u001b[1;32m   3817\u001b[0m     \u001b[38;5;28mself\u001b[39m\u001b[38;5;241m.\u001b[39m_check_indexing_error(key)\n",
      "\u001b[0;31mKeyError\u001b[0m: 'pid'"
     ]
    }
   ],
   "source": [
    "# verify that no pids in the holdout set are in the processed nodule df\n",
    "hold_out_pids = set(df_hold_out_set[\"pid\"])\n",
    "for p in set(df[\"pid\"]):\n",
    "    if p in hold_out_pids:\n",
    "        print(f\"{p} is in the hold out set\")"
   ]
  },
  {
   "cell_type": "markdown",
   "metadata": {},
   "source": [
    "# EDA on Raw Attributes"
   ]
  },
  {
   "cell_type": "markdown",
   "metadata": {},
   "source": [
    "## Malignancy distribution"
   ]
  },
  {
   "cell_type": "code",
   "execution_count": null,
   "metadata": {},
   "outputs": [
    {
     "name": "stdout",
     "output_type": "stream",
     "text": [
      "Consensus cancer rate in nodules:\n"
     ]
    },
    {
     "data": {
      "text/plain": [
       "cancer_label\n",
       "Ambiguous    1020\n",
       "Benign        733\n",
       "Malignant     388\n",
       "Name: count, dtype: int64"
      ]
     },
     "execution_count": 4,
     "metadata": {},
     "output_type": "execute_result"
    }
   ],
   "source": [
    "print(\"Consensus cancer rate in nodules:\")\n",
    "df[\"cancer_label\"].value_counts()"
   ]
  },
  {
   "cell_type": "code",
   "execution_count": null,
   "metadata": {},
   "outputs": [
    {
     "data": {
      "image/png": "[encoded data removed]",
      "text/plain": [
       "<Figure size 640x480 with 1 Axes>"
      ]
     },
     "metadata": {},
     "output_type": "display_data"
    }
   ],
   "source": [
    "sns.histplot(data=df, x=\"malignancy_consensus\", discrete=True)\n",
    "vals = df[\"malignancy_consensus\"].value_counts().sort_index().values\n",
    "for i in range(0, 5):\n",
    "    plt.text(i+1, vals[i], vals[i], ha=\"center\", va=\"bottom\")\n",
    "plt.xlabel(\"Consensus Malignancy score\")\n",
    "plt.show()"
   ]
  },
  {
   "cell_type": "code",
   "execution_count": null,
   "metadata": {},
   "outputs": [
    {
     "data": {
      "image/png": "[encoded data removed]",
      "text/plain": [
       "<Figure size 1200x400 with 2 Axes>"
      ]
     },
     "metadata": {},
     "output_type": "display_data"
    }
   ],
   "source": [
    "# stratify on nodule annotation count, and plot diameter\n",
    "fig, axs = plt.subplots(1, 2, figsize=(12, 4))\n",
    "sns.barplot(data=df.query(\"nodule_annotation_count <= 4\"), x=\"nodule_annotation_count\", y=\"ann_mean_diameter\", hue=\"cancer_label\", ax=axs[0])\n",
    "axs[0].set_title(\"Nodule Diameter by Annotation Count\")\n",
    "axs[0].set_ylabel(\"Diameter (mm)\")\n",
    "sns.barplot(data=df.query(\"nodule_annotation_count <= 4\"), x=\"nodule_annotation_count\", y=\"ann_mean_volume\", hue=\"cancer_label\", ax=axs[1])\n",
    "axs[1].set_title(\"Nodule Volume by Annotation Count\")\n",
    "axs[1].set_ylabel(\"Volume $(mm^3)$\")\n",
    "plt.show()"
   ]
  },
  {
   "cell_type": "code",
   "execution_count": null,
   "metadata": {},
   "outputs": [
    {
     "name": "stdout",
     "output_type": "stream",
     "text": [
      "1\n",
      "1\n",
      "1\n",
      "1\n",
      "1\n",
      "1\n",
      "1\n",
      "1\n",
      "1\n",
      "1\n",
      "1\n"
     ]
    }
   ],
   "source": [
    "# check if the nodules with multiple annotations belongs to the patient with mutliple scans:\n",
    "pids = df.query(\"nodule_annotation_count > 4\")[\"pid\"].tolist()\n",
    "\n",
    "for p in pids:\n",
    "    print(len(pl.query(pl.Scan).filter(pl.Scan.patient_id == p).all()))"
   ]
  },
  {
   "cell_type": "markdown",
   "metadata": {},
   "source": [
    "# Nodule per patient"
   ]
  },
  {
   "cell_type": "code",
   "execution_count": null,
   "metadata": {},
   "outputs": [
    {
     "data": {
      "image/png": "[encoded data removed]",
      "text/plain": [
       "<Figure size 640x480 with 1 Axes>"
      ]
     },
     "metadata": {},
     "output_type": "display_data"
    }
   ],
   "source": [
    "# This is useful for when we need to make the datasplits and for cross validation\n",
    "sns.histplot(df.groupby(\"pid\").size(), bins=30, kde=True)\n",
    "plt.xlabel(\"Number of Nodules per Patient\")\n",
    "plt.show()"
   ]
  },
  {
   "cell_type": "markdown",
   "metadata": {},
   "source": [
    "# Nodules with 1 annotation"
   ]
  },
  {
   "cell_type": "code",
   "execution_count": null,
   "metadata": {},
   "outputs": [
    {
     "data": {
      "text/html": [
       "<div>\n",
       "<style scoped>\n",
       "    .dataframe tbody tr th:only-of-type {\n",
       "        vertical-align: middle;\n",
       "    }\n",
       "\n",
       "    .dataframe tbody tr th {\n",
       "        vertical-align: top;\n",
       "    }\n",
       "\n",
       "    .dataframe thead th {\n",
       "        text-align: right;\n",
       "    }\n",
       "</style>\n",
       "<table border=\"1\" class=\"dataframe\">\n",
       "  <thead>\n",
       "    <tr style=\"text-align: right;\">\n",
       "      <th></th>\n",
       "      <th>index</th>\n",
       "      <th>pid</th>\n",
       "      <th>nodule_idx</th>\n",
       "      <th>ann_mean_diameter</th>\n",
       "      <th>ann_mean_volume</th>\n",
       "      <th>nodule_annotation_ids</th>\n",
       "      <th>nodule_annotation_count</th>\n",
       "      <th>malignancy_scores</th>\n",
       "      <th>subtlety_scores</th>\n",
       "      <th>margin_scores</th>\n",
       "      <th>...</th>\n",
       "      <th>bbox_within_scan_100</th>\n",
       "      <th>malignancy_consensus</th>\n",
       "      <th>subtlety_consensus</th>\n",
       "      <th>margin_consensus</th>\n",
       "      <th>cancer_label</th>\n",
       "      <th>fold_1</th>\n",
       "      <th>fold_2</th>\n",
       "      <th>fold_3</th>\n",
       "      <th>fold_4</th>\n",
       "      <th>fold_5</th>\n",
       "    </tr>\n",
       "  </thead>\n",
       "  <tbody>\n",
       "    <tr>\n",
       "      <th>2</th>\n",
       "      <td>0_LIDC-IDRI-0003</td>\n",
       "      <td>LIDC-IDRI-0003</td>\n",
       "      <td>0</td>\n",
       "      <td>31.664468</td>\n",
       "      <td>4731.410934</td>\n",
       "      <td>(102,)</td>\n",
       "      <td>1</td>\n",
       "      <td>(2,)</td>\n",
       "      <td>(1,)</td>\n",
       "      <td>(2,)</td>\n",
       "      <td>...</td>\n",
       "      <td>True</td>\n",
       "      <td>2</td>\n",
       "      <td>1</td>\n",
       "      <td>2</td>\n",
       "      <td>Benign</td>\n",
       "      <td>test</td>\n",
       "      <td>train</td>\n",
       "      <td>train</td>\n",
       "      <td>train</td>\n",
       "      <td>train</td>\n",
       "    </tr>\n",
       "    <tr>\n",
       "      <th>9</th>\n",
       "      <td>2_LIDC-IDRI-0005</td>\n",
       "      <td>LIDC-IDRI-0005</td>\n",
       "      <td>2</td>\n",
       "      <td>6.264748</td>\n",
       "      <td>90.951783</td>\n",
       "      <td>(109,)</td>\n",
       "      <td>1</td>\n",
       "      <td>(2,)</td>\n",
       "      <td>(3,)</td>\n",
       "      <td>(5,)</td>\n",
       "      <td>...</td>\n",
       "      <td>False</td>\n",
       "      <td>2</td>\n",
       "      <td>3</td>\n",
       "      <td>5</td>\n",
       "      <td>Benign</td>\n",
       "      <td>train</td>\n",
       "      <td>train</td>\n",
       "      <td>train</td>\n",
       "      <td>test</td>\n",
       "      <td>train</td>\n",
       "    </tr>\n",
       "    <tr>\n",
       "      <th>10</th>\n",
       "      <td>0_LIDC-IDRI-0006</td>\n",
       "      <td>LIDC-IDRI-0006</td>\n",
       "      <td>0</td>\n",
       "      <td>6.987712</td>\n",
       "      <td>115.722656</td>\n",
       "      <td>(116,)</td>\n",
       "      <td>1</td>\n",
       "      <td>(2,)</td>\n",
       "      <td>(3,)</td>\n",
       "      <td>(5,)</td>\n",
       "      <td>...</td>\n",
       "      <td>True</td>\n",
       "      <td>2</td>\n",
       "      <td>3</td>\n",
       "      <td>5</td>\n",
       "      <td>Benign</td>\n",
       "      <td>train</td>\n",
       "      <td>train</td>\n",
       "      <td>train</td>\n",
       "      <td>test</td>\n",
       "      <td>train</td>\n",
       "    </tr>\n",
       "    <tr>\n",
       "      <th>12</th>\n",
       "      <td>2_LIDC-IDRI-0006</td>\n",
       "      <td>LIDC-IDRI-0006</td>\n",
       "      <td>2</td>\n",
       "      <td>15.051993</td>\n",
       "      <td>465.820312</td>\n",
       "      <td>(123,)</td>\n",
       "      <td>1</td>\n",
       "      <td>(2,)</td>\n",
       "      <td>(1,)</td>\n",
       "      <td>(2,)</td>\n",
       "      <td>...</td>\n",
       "      <td>True</td>\n",
       "      <td>2</td>\n",
       "      <td>1</td>\n",
       "      <td>2</td>\n",
       "      <td>Benign</td>\n",
       "      <td>train</td>\n",
       "      <td>train</td>\n",
       "      <td>train</td>\n",
       "      <td>test</td>\n",
       "      <td>train</td>\n",
       "    </tr>\n",
       "    <tr>\n",
       "      <th>15</th>\n",
       "      <td>0_LIDC-IDRI-0009</td>\n",
       "      <td>LIDC-IDRI-0009</td>\n",
       "      <td>0</td>\n",
       "      <td>7.370298</td>\n",
       "      <td>78.201294</td>\n",
       "      <td>(136,)</td>\n",
       "      <td>1</td>\n",
       "      <td>(2,)</td>\n",
       "      <td>(3,)</td>\n",
       "      <td>(5,)</td>\n",
       "      <td>...</td>\n",
       "      <td>True</td>\n",
       "      <td>2</td>\n",
       "      <td>3</td>\n",
       "      <td>5</td>\n",
       "      <td>Benign</td>\n",
       "      <td>train</td>\n",
       "      <td>train</td>\n",
       "      <td>test</td>\n",
       "      <td>train</td>\n",
       "      <td>train</td>\n",
       "    </tr>\n",
       "  </tbody>\n",
       "</table>\n",
       "<p>5 rows × 40 columns</p>\n",
       "</div>"
      ],
      "text/plain": [
       "               index             pid  nodule_idx  ann_mean_diameter  \\\n",
       "2   0_LIDC-IDRI-0003  LIDC-IDRI-0003           0          31.664468   \n",
       "9   2_LIDC-IDRI-0005  LIDC-IDRI-0005           2           6.264748   \n",
       "10  0_LIDC-IDRI-0006  LIDC-IDRI-0006           0           6.987712   \n",
       "12  2_LIDC-IDRI-0006  LIDC-IDRI-0006           2          15.051993   \n",
       "15  0_LIDC-IDRI-0009  LIDC-IDRI-0009           0           7.370298   \n",
       "\n",
       "    ann_mean_volume nodule_annotation_ids  nodule_annotation_count  \\\n",
       "2       4731.410934                (102,)                        1   \n",
       "9         90.951783                (109,)                        1   \n",
       "10       115.722656                (116,)                        1   \n",
       "12       465.820312                (123,)                        1   \n",
       "15        78.201294                (136,)                        1   \n",
       "\n",
       "   malignancy_scores subtlety_scores margin_scores  ... bbox_within_scan_100  \\\n",
       "2               (2,)            (1,)          (2,)  ...                 True   \n",
       "9               (2,)            (3,)          (5,)  ...                False   \n",
       "10              (2,)            (3,)          (5,)  ...                 True   \n",
       "12              (2,)            (1,)          (2,)  ...                 True   \n",
       "15              (2,)            (3,)          (5,)  ...                 True   \n",
       "\n",
       "   malignancy_consensus  subtlety_consensus margin_consensus  cancer_label  \\\n",
       "2                     2                   1                2        Benign   \n",
       "9                     2                   3                5        Benign   \n",
       "10                    2                   3                5        Benign   \n",
       "12                    2                   1                2        Benign   \n",
       "15                    2                   3                5        Benign   \n",
       "\n",
       "   fold_1  fold_2 fold_3  fold_4 fold_5  \n",
       "2    test   train  train   train  train  \n",
       "9   train   train  train    test  train  \n",
       "10  train   train  train    test  train  \n",
       "12  train   train  train    test  train  \n",
       "15  train   train   test   train  train  \n",
       "\n",
       "[5 rows x 40 columns]"
      ]
     },
     "execution_count": 12,
     "metadata": {},
     "output_type": "execute_result"
    }
   ],
   "source": [
    "one_ann_nod_df = df.query(\"nodule_annotation_count == 1\")\n",
    "one_ann_nod_df.head()"
   ]
  },
  {
   "cell_type": "code",
   "execution_count": null,
   "metadata": {},
   "outputs": [
    {
     "data": {
      "image/png": "[encoded data removed]",
      "text/plain": [
       "<Figure size 640x480 with 1 Axes>"
      ]
     },
     "metadata": {},
     "output_type": "display_data"
    }
   ],
   "source": [
    "# get subtlety score for nodules with only one annotation\n",
    "# Intuitively, for the nodules with only one annotation, the subtlety distribution should be skewed towards 1 (most of the nodules should be subtle)\n",
    "# however, this is not the case as we see below....\n",
    "sns.histplot(data=one_ann_nod_df, x=\"subtlety_consensus\", discrete=True)\n",
    "plt.xlabel(\"Subtlety Score (1: most subtle, 5: most obvious)\")\n",
    "plt.title(\"Subtlety Score Distribution for Nodules with only one annotation\")\n",
    "plt.show()"
   ]
  },
  {
   "cell_type": "markdown",
   "metadata": {},
   "source": [
    "# How many nodule consensus bbox's is within borders of scan?"
   ]
  },
  {
   "cell_type": "code",
   "execution_count": null,
   "metadata": {},
   "outputs": [
    {
     "data": {
      "text/plain": [
       "Index(['index', 'pid', 'nodule_idx', 'ann_mean_diameter', 'ann_mean_volume',\n",
       "       'nodule_annotation_ids', 'nodule_annotation_count', 'malignancy_scores',\n",
       "       'subtlety_scores', 'margin_scores', 'consensus_centroid',\n",
       "       'consensus_bbox_10', 'consensus_bbox_20', 'consensus_bbox_30',\n",
       "       'consensus_bbox_40', 'consensus_bbox_50', 'consensus_bbox_60',\n",
       "       'consensus_bbox_70', 'consensus_bbox_80', 'consensus_bbox_90',\n",
       "       'consensus_bbox_100', 'malignancy_consensus', 'subtlety_consensus',\n",
       "       'cancer_label', 'bbox_10_standardised', 'bbox_20_standardised',\n",
       "       'bbox_30_standardised', 'bbox_40_standardised', 'bbox_50_standardised',\n",
       "       'bbox_60_standardised', 'bbox_70_standardised', 'bbox_80_standardised',\n",
       "       'bbox_90_standardised', 'bbox_100_standardised'],\n",
       "      dtype='object')"
      ]
     },
     "execution_count": 14,
     "metadata": {},
     "output_type": "execute_result"
    }
   ],
   "source": [
    "from utils.common_imports import *\n",
    "nodule_df = pd.read_csv(\"out/nodule_df.csv\")\n",
    "nodule_df.columns"
   ]
  },
  {
   "cell_type": "code",
   "execution_count": null,
   "metadata": {},
   "outputs": [
    {
     "ename": "NameError",
     "evalue": "name 'nodule_df' is not defined",
     "output_type": "error",
     "traceback": [
      "\u001b[0;31m---------------------------------------------------------------------------\u001b[0m",
      "\u001b[0;31mNameError\u001b[0m                                 Traceback (most recent call last)",
      "Cell \u001b[0;32mIn[53], line 1\u001b[0m\n\u001b[0;32m----> 1\u001b[0m cols \u001b[38;5;241m=\u001b[39m [c \u001b[38;5;28;01mfor\u001b[39;00m c \u001b[38;5;129;01min\u001b[39;00m \u001b[43mnodule_df\u001b[49m\u001b[38;5;241m.\u001b[39mcolumns \u001b[38;5;28;01mif\u001b[39;00m c\u001b[38;5;241m.\u001b[39mstartswith(\u001b[38;5;124m\"\u001b[39m\u001b[38;5;124mbbox_within_scan\u001b[39m\u001b[38;5;124m\"\u001b[39m)]\n\u001b[1;32m      2\u001b[0m plot_df \u001b[38;5;241m=\u001b[39m nodule_df[cols]\n\u001b[1;32m      3\u001b[0m counts \u001b[38;5;241m=\u001b[39m plot_df\u001b[38;5;241m.\u001b[39mapply(\u001b[38;5;28;01mlambda\u001b[39;00m x: x\u001b[38;5;241m.\u001b[39mvalue_counts())\n",
      "\u001b[0;31mNameError\u001b[0m: name 'nodule_df' is not defined"
     ]
    }
   ],
   "source": [
    "cols = [c for c in nodule_df.columns if c.startswith(\"bbox_within_scan\")]\n",
    "plot_df = nodule_df[cols]\n",
    "counts = plot_df.apply(lambda x: x.value_counts())\n",
    "display(counts)\n",
    "counts.T.plot(kind=\"bar\", stacked=True, color=[\"red\", \"green\"], figsize=(6, 4))\n",
    "plt.title(\"Distribution of Nodules consensus bbox within scan\\n for different bounding box sizes\")\n",
    "plt.ylabel(\"Count\")\n",
    "plt.xticks(ticks=range(len(cols)), labels=[int(x.split(\"_\")[-1]) for x in cols])\n",
    "plt.xlabel(\"Bounding Box Size\")\n",
    "plt.legend([\"False\", \"True\"], title=\"Values\")\n",
    "plt.show()"
   ]
  },
  {
   "cell_type": "code",
   "execution_count": null,
   "metadata": {},
   "outputs": [
    {
     "data": {
      "text/plain": [
       "bbox_within_scan_70\n",
       "True     2141\n",
       "False     237\n",
       "Name: count, dtype: int64"
      ]
     },
     "execution_count": 10,
     "metadata": {},
     "output_type": "execute_result"
    }
   ],
   "source": [
    "nodule_df[\"bbox_within_scan_70\"].value_counts()"
   ]
  },
  {
   "cell_type": "markdown",
   "metadata": {},
   "source": [
    "## Inspect Nodule BBoxes that are not standardised"
   ]
  },
  {
   "cell_type": "code",
   "execution_count": null,
   "metadata": {},
   "outputs": [
    {
     "data": {
      "text/plain": [
       "Index(['nodule_id', 'scan_id', 'nodule_idx', 'scan_slice_thickness',\n",
       "       'scan_slice_spacing', 'scan_pixel_spacing', 'scan_contrast_used',\n",
       "       'malignancy_scores', 'subtlety_scores', 'ann_internalStructure_scores',\n",
       "       'ann_calcification_scores', 'ann_sphericity_scores',\n",
       "       'ann_margin_scores', 'ann_lobulation_scores', 'ann_spiculation_scores',\n",
       "       'ann_texture_scores', 'nodule_annotation_ids',\n",
       "       'nodule_annotation_count', 'ann_mean_diameter', 'ann_mean_volume',\n",
       "       'consensus_centroid', 'consensus_bbox_10', 'consensus_bbox_20',\n",
       "       'consensus_bbox_30', 'consensus_bbox_40', 'consensus_bbox_50',\n",
       "       'consensus_bbox_60', 'consensus_bbox_70', 'consensus_bbox_80',\n",
       "       'consensus_bbox_90', 'consensus_bbox_100', 'malignancy_consensus',\n",
       "       'cancer_label', 'subtlety_consensus', 'internalStructure_consensus',\n",
       "       'calcification_consensus', 'sphericity_consensus', 'margin_consensus',\n",
       "       'lobulation_consensus', 'spiculation_consensus', 'texture_consensus',\n",
       "       'bbox_10_standardised', 'bbox_20_standardised', 'bbox_30_standardised',\n",
       "       'bbox_40_standardised', 'bbox_50_standardised', 'bbox_60_standardised',\n",
       "       'bbox_70_standardised', 'bbox_80_standardised', 'bbox_90_standardised',\n",
       "       'bbox_100_standardised'],\n",
       "      dtype='object')"
      ]
     },
     "execution_count": 3,
     "metadata": {},
     "output_type": "execute_result"
    }
   ],
   "source": [
    "from data.dataset import Nodule\n",
    "import ast\n",
    "from project_config import env_config\n",
    "import pandas as pd\n",
    "IMAGE_DIM = 70\n",
    "\n",
    "nodule_df = pd.read_csv(\n",
    "    f\"{env_config.PROJECT_DIR}/preprocessing/processed_nodule_df.csv\"\n",
    ")\n",
    "nodule_df[f\"consensus_bbox_{IMAGE_DIM}\"] = nodule_df[\n",
    "    f\"consensus_bbox_{IMAGE_DIM}\"\n",
    "].apply(ast.literal_eval)\n",
    "nodule_df[\"nodule_annotation_ids\"] = nodule_df[\n",
    "    \"nodule_annotation_ids\"\n",
    "].apply(ast.literal_eval)\n",
    "nodule_df.columns"
   ]
  },
  {
   "cell_type": "code",
   "execution_count": null,
   "metadata": {},
   "outputs": [
    {
     "name": "stderr",
     "output_type": "stream",
     "text": [
      "0it [00:00, ?it/s]\n"
     ]
    },
    {
     "data": {
      "image/png": "[encoded data removed]",
      "text/plain": [
       "<Figure size 640x480 with 1 Axes>"
      ]
     },
     "metadata": {},
     "output_type": "display_data"
    }
   ],
   "source": [
    "from tqdm import tqdm\n",
    "import seaborn as sns\n",
    "import matplotlib.pyplot as plt\n",
    "\n",
    "non_standardised = nodule_df.query(f\"bbox_{IMAGE_DIM}_standardised == False\")\n",
    "\n",
    "\"\"\"NOTE: it is very often the z-dimension that lacks exceeds the border of the scan at max img dim.\n",
    "Maybe we could use a lower dim on the z-dimension to not exclude images.\"\"\"\n",
    "z_shapes = []\n",
    "for i in tqdm(range(len(non_standardised))):\n",
    "    n = Nodule(nodule_record=non_standardised.iloc[i], nodule_context_size=IMAGE_DIM)\n",
    "    z_shapes.append(n.nodule_roi.shape[-1])\n",
    "\n",
    "sns.histplot(z_shapes)\n",
    "plt.show()\n",
    "\n",
    "# %matplotlib widget\n",
    "# n.visualise_nodule_bbox()"
   ]
  },
  {
   "cell_type": "code",
   "execution_count": null,
   "metadata": {},
   "outputs": [
    {
     "data": {
      "text/plain": [
       "(array([  0,  12, 101, 159,   6]), array([30, 40, 50, 60, 70, 70]))"
      ]
     },
     "execution_count": 22,
     "metadata": {},
     "output_type": "execute_result"
    }
   ],
   "source": [
    "np.histogram(np.array(z_shapes), bins=[30, 40, 50, 60, 70, 70])"
   ]
  },
  {
   "cell_type": "code",
   "execution_count": null,
   "metadata": {},
   "outputs": [
    {
     "data": {
      "image/png": "[encoded data removed]",
      "text/plain": [
       "<Figure size 640x480 with 1 Axes>"
      ]
     },
     "metadata": {},
     "output_type": "display_data"
    }
   ],
   "source": [
    "sns.histplot(z_shapes)\n",
    "plt.title(\"Distribution of the size of Z-dimension of non-standardised nodules\\nwhen using 70x70x70 image dimension\")\n",
    "plt.xlabel(\"Z-dimension size\\n(number of slices for non-standardised nodules)\")\n",
    "plt.show()"
   ]
  },
  {
   "cell_type": "markdown",
   "metadata": {},
   "source": [
    "# Filtering"
   ]
  },
  {
   "cell_type": "code",
   "execution_count": null,
   "metadata": {},
   "outputs": [
    {
     "name": "stderr",
     "output_type": "stream",
     "text": [
      "/var/folders/_c/vr22_fg12d7flyy_ll_m264w0000gp/T/ipykernel_56993/165000911.py:2: SettingWithCopyWarning: \n",
      "A value is trying to be set on a copy of a slice from a DataFrame.\n",
      "Try using .loc[row_indexer,col_indexer] = value instead\n",
      "\n",
      "See the caveats in the documentation: https://pandas.pydata.org/pandas-docs/stable/user_guide/indexing.html#returning-a-view-versus-a-copy\n",
      "  fil_df[\"cancer_label\"] = fil_df[\"cancer_label\"].map({\"Benign\": 0, \"Malignant\": 1})\n"
     ]
    },
    {
     "data": {
      "text/html": [
       "<div>\n",
       "<style scoped>\n",
       "    .dataframe tbody tr th:only-of-type {\n",
       "        vertical-align: middle;\n",
       "    }\n",
       "\n",
       "    .dataframe tbody tr th {\n",
       "        vertical-align: top;\n",
       "    }\n",
       "\n",
       "    .dataframe thead th {\n",
       "        text-align: right;\n",
       "    }\n",
       "</style>\n",
       "<table border=\"1\" class=\"dataframe\">\n",
       "  <thead>\n",
       "    <tr style=\"text-align: right;\">\n",
       "      <th></th>\n",
       "      <th>index</th>\n",
       "      <th>pid</th>\n",
       "      <th>nodule_idx</th>\n",
       "      <th>ann_mean_diameter</th>\n",
       "      <th>ann_mean_volume</th>\n",
       "      <th>nodule_annotation_ids</th>\n",
       "      <th>nodule_annotation_count</th>\n",
       "      <th>malignancy_scores</th>\n",
       "      <th>subtlety_scores</th>\n",
       "      <th>margin_scores</th>\n",
       "      <th>...</th>\n",
       "      <th>bbox_within_scan_128</th>\n",
       "      <th>malignancy_consensus</th>\n",
       "      <th>subtlety_consensus</th>\n",
       "      <th>margin_consensus</th>\n",
       "      <th>cancer_label</th>\n",
       "      <th>fold_1</th>\n",
       "      <th>fold_2</th>\n",
       "      <th>fold_3</th>\n",
       "      <th>fold_4</th>\n",
       "      <th>fold_5</th>\n",
       "    </tr>\n",
       "  </thead>\n",
       "  <tbody>\n",
       "    <tr>\n",
       "      <th>0</th>\n",
       "      <td>0_LIDC-IDRI-0001</td>\n",
       "      <td>LIDC-IDRI-0001</td>\n",
       "      <td>0</td>\n",
       "      <td>32.755812</td>\n",
       "      <td>6989.673615</td>\n",
       "      <td>(84, 85, 86, 87)</td>\n",
       "      <td>4</td>\n",
       "      <td>(5, 5, 5, 4)</td>\n",
       "      <td>(5, 5, 5, 5)</td>\n",
       "      <td>(3, 4, 2, 4)</td>\n",
       "      <td>...</td>\n",
       "      <td>False</td>\n",
       "      <td>5</td>\n",
       "      <td>5</td>\n",
       "      <td>3</td>\n",
       "      <td>1</td>\n",
       "      <td>test</td>\n",
       "      <td>train</td>\n",
       "      <td>train</td>\n",
       "      <td>train</td>\n",
       "      <td>train</td>\n",
       "    </tr>\n",
       "    <tr>\n",
       "      <th>1</th>\n",
       "      <td>0_LIDC-IDRI-0002</td>\n",
       "      <td>LIDC-IDRI-0002</td>\n",
       "      <td>0</td>\n",
       "      <td>30.781671</td>\n",
       "      <td>7244.667508</td>\n",
       "      <td>(88, 89)</td>\n",
       "      <td>2</td>\n",
       "      <td>(5, 4)</td>\n",
       "      <td>(2, 1)</td>\n",
       "      <td>(1, 2)</td>\n",
       "      <td>...</td>\n",
       "      <td>True</td>\n",
       "      <td>5</td>\n",
       "      <td>2</td>\n",
       "      <td>2</td>\n",
       "      <td>1</td>\n",
       "      <td>train</td>\n",
       "      <td>train</td>\n",
       "      <td>test</td>\n",
       "      <td>train</td>\n",
       "      <td>train</td>\n",
       "    </tr>\n",
       "    <tr>\n",
       "      <th>2</th>\n",
       "      <td>0_LIDC-IDRI-0003</td>\n",
       "      <td>LIDC-IDRI-0003</td>\n",
       "      <td>0</td>\n",
       "      <td>31.664468</td>\n",
       "      <td>4731.410934</td>\n",
       "      <td>(102,)</td>\n",
       "      <td>1</td>\n",
       "      <td>(2,)</td>\n",
       "      <td>(1,)</td>\n",
       "      <td>(2,)</td>\n",
       "      <td>...</td>\n",
       "      <td>True</td>\n",
       "      <td>2</td>\n",
       "      <td>1</td>\n",
       "      <td>2</td>\n",
       "      <td>0</td>\n",
       "      <td>train</td>\n",
       "      <td>test</td>\n",
       "      <td>train</td>\n",
       "      <td>train</td>\n",
       "      <td>train</td>\n",
       "    </tr>\n",
       "    <tr>\n",
       "      <th>3</th>\n",
       "      <td>1_LIDC-IDRI-0003</td>\n",
       "      <td>LIDC-IDRI-0003</td>\n",
       "      <td>1</td>\n",
       "      <td>31.001964</td>\n",
       "      <td>6519.463698</td>\n",
       "      <td>(90, 93, 98, 99)</td>\n",
       "      <td>4</td>\n",
       "      <td>(5, 5, 3, 4)</td>\n",
       "      <td>(5, 5, 5, 5)</td>\n",
       "      <td>(3, 3, 3, 4)</td>\n",
       "      <td>...</td>\n",
       "      <td>True</td>\n",
       "      <td>4</td>\n",
       "      <td>5</td>\n",
       "      <td>3</td>\n",
       "      <td>1</td>\n",
       "      <td>train</td>\n",
       "      <td>test</td>\n",
       "      <td>train</td>\n",
       "      <td>train</td>\n",
       "      <td>train</td>\n",
       "    </tr>\n",
       "    <tr>\n",
       "      <th>5</th>\n",
       "      <td>3_LIDC-IDRI-0003</td>\n",
       "      <td>LIDC-IDRI-0003</td>\n",
       "      <td>3</td>\n",
       "      <td>14.983128</td>\n",
       "      <td>1313.229390</td>\n",
       "      <td>(92, 94, 96, 101)</td>\n",
       "      <td>4</td>\n",
       "      <td>(4, 5, 3, 2)</td>\n",
       "      <td>(4, 5, 4, 3)</td>\n",
       "      <td>(5, 5, 5, 5)</td>\n",
       "      <td>...</td>\n",
       "      <td>False</td>\n",
       "      <td>4</td>\n",
       "      <td>4</td>\n",
       "      <td>5</td>\n",
       "      <td>1</td>\n",
       "      <td>train</td>\n",
       "      <td>test</td>\n",
       "      <td>train</td>\n",
       "      <td>train</td>\n",
       "      <td>train</td>\n",
       "    </tr>\n",
       "    <tr>\n",
       "      <th>...</th>\n",
       "      <td>...</td>\n",
       "      <td>...</td>\n",
       "      <td>...</td>\n",
       "      <td>...</td>\n",
       "      <td>...</td>\n",
       "      <td>...</td>\n",
       "      <td>...</td>\n",
       "      <td>...</td>\n",
       "      <td>...</td>\n",
       "      <td>...</td>\n",
       "      <td>...</td>\n",
       "      <td>...</td>\n",
       "      <td>...</td>\n",
       "      <td>...</td>\n",
       "      <td>...</td>\n",
       "      <td>...</td>\n",
       "      <td>...</td>\n",
       "      <td>...</td>\n",
       "      <td>...</td>\n",
       "      <td>...</td>\n",
       "      <td>...</td>\n",
       "    </tr>\n",
       "    <tr>\n",
       "      <th>2620</th>\n",
       "      <td>0_LIDC-IDRI-1011</td>\n",
       "      <td>LIDC-IDRI-1011</td>\n",
       "      <td>0</td>\n",
       "      <td>28.675805</td>\n",
       "      <td>6039.291382</td>\n",
       "      <td>(4484, 4486, 4489, 4492)</td>\n",
       "      <td>4</td>\n",
       "      <td>(4, 3, 4, 3)</td>\n",
       "      <td>(5, 5, 5, 5)</td>\n",
       "      <td>(4, 3, 4, 5)</td>\n",
       "      <td>...</td>\n",
       "      <td>True</td>\n",
       "      <td>4</td>\n",
       "      <td>5</td>\n",
       "      <td>4</td>\n",
       "      <td>1</td>\n",
       "      <td>train</td>\n",
       "      <td>train</td>\n",
       "      <td>train</td>\n",
       "      <td>test</td>\n",
       "      <td>train</td>\n",
       "    </tr>\n",
       "    <tr>\n",
       "      <th>2621</th>\n",
       "      <td>1_LIDC-IDRI-1011</td>\n",
       "      <td>LIDC-IDRI-1011</td>\n",
       "      <td>1</td>\n",
       "      <td>32.859210</td>\n",
       "      <td>4170.822144</td>\n",
       "      <td>(4483, 4487, 4490, 4493)</td>\n",
       "      <td>4</td>\n",
       "      <td>(3, 5, 5, 5)</td>\n",
       "      <td>(5, 5, 5, 5)</td>\n",
       "      <td>(5, 2, 4, 4)</td>\n",
       "      <td>...</td>\n",
       "      <td>False</td>\n",
       "      <td>5</td>\n",
       "      <td>5</td>\n",
       "      <td>4</td>\n",
       "      <td>1</td>\n",
       "      <td>train</td>\n",
       "      <td>train</td>\n",
       "      <td>train</td>\n",
       "      <td>test</td>\n",
       "      <td>train</td>\n",
       "    </tr>\n",
       "    <tr>\n",
       "      <th>2622</th>\n",
       "      <td>2_LIDC-IDRI-1011</td>\n",
       "      <td>LIDC-IDRI-1011</td>\n",
       "      <td>2</td>\n",
       "      <td>22.721655</td>\n",
       "      <td>2185.342789</td>\n",
       "      <td>(4482, 4485, 4488, 4494)</td>\n",
       "      <td>4</td>\n",
       "      <td>(2, 5, 5, 5)</td>\n",
       "      <td>(3, 5, 5, 5)</td>\n",
       "      <td>(3, 2, 3, 4)</td>\n",
       "      <td>...</td>\n",
       "      <td>False</td>\n",
       "      <td>4</td>\n",
       "      <td>5</td>\n",
       "      <td>3</td>\n",
       "      <td>1</td>\n",
       "      <td>train</td>\n",
       "      <td>train</td>\n",
       "      <td>train</td>\n",
       "      <td>test</td>\n",
       "      <td>train</td>\n",
       "    </tr>\n",
       "    <tr>\n",
       "      <th>2623</th>\n",
       "      <td>3_LIDC-IDRI-1011</td>\n",
       "      <td>LIDC-IDRI-1011</td>\n",
       "      <td>3</td>\n",
       "      <td>6.544805</td>\n",
       "      <td>92.315674</td>\n",
       "      <td>(4491,)</td>\n",
       "      <td>1</td>\n",
       "      <td>(2,)</td>\n",
       "      <td>(1,)</td>\n",
       "      <td>(2,)</td>\n",
       "      <td>...</td>\n",
       "      <td>False</td>\n",
       "      <td>2</td>\n",
       "      <td>1</td>\n",
       "      <td>2</td>\n",
       "      <td>0</td>\n",
       "      <td>train</td>\n",
       "      <td>train</td>\n",
       "      <td>train</td>\n",
       "      <td>test</td>\n",
       "      <td>train</td>\n",
       "    </tr>\n",
       "    <tr>\n",
       "      <th>2624</th>\n",
       "      <td>0_LIDC-IDRI-1012</td>\n",
       "      <td>LIDC-IDRI-1012</td>\n",
       "      <td>0</td>\n",
       "      <td>9.267563</td>\n",
       "      <td>171.161438</td>\n",
       "      <td>(4478, 4479, 4480, 4481)</td>\n",
       "      <td>4</td>\n",
       "      <td>(2, 2, 2, 2)</td>\n",
       "      <td>(1, 4, 4, 4)</td>\n",
       "      <td>(2, 4, 5, 3)</td>\n",
       "      <td>...</td>\n",
       "      <td>True</td>\n",
       "      <td>2</td>\n",
       "      <td>3</td>\n",
       "      <td>4</td>\n",
       "      <td>0</td>\n",
       "      <td>train</td>\n",
       "      <td>test</td>\n",
       "      <td>train</td>\n",
       "      <td>train</td>\n",
       "      <td>train</td>\n",
       "    </tr>\n",
       "  </tbody>\n",
       "</table>\n",
       "<p>1381 rows × 30 columns</p>\n",
       "</div>"
      ],
      "text/plain": [
       "                 index             pid  nodule_idx  ann_mean_diameter  \\\n",
       "0     0_LIDC-IDRI-0001  LIDC-IDRI-0001           0          32.755812   \n",
       "1     0_LIDC-IDRI-0002  LIDC-IDRI-0002           0          30.781671   \n",
       "2     0_LIDC-IDRI-0003  LIDC-IDRI-0003           0          31.664468   \n",
       "3     1_LIDC-IDRI-0003  LIDC-IDRI-0003           1          31.001964   \n",
       "5     3_LIDC-IDRI-0003  LIDC-IDRI-0003           3          14.983128   \n",
       "...                ...             ...         ...                ...   \n",
       "2620  0_LIDC-IDRI-1011  LIDC-IDRI-1011           0          28.675805   \n",
       "2621  1_LIDC-IDRI-1011  LIDC-IDRI-1011           1          32.859210   \n",
       "2622  2_LIDC-IDRI-1011  LIDC-IDRI-1011           2          22.721655   \n",
       "2623  3_LIDC-IDRI-1011  LIDC-IDRI-1011           3           6.544805   \n",
       "2624  0_LIDC-IDRI-1012  LIDC-IDRI-1012           0           9.267563   \n",
       "\n",
       "      ann_mean_volume     nodule_annotation_ids  nodule_annotation_count  \\\n",
       "0         6989.673615          (84, 85, 86, 87)                        4   \n",
       "1         7244.667508                  (88, 89)                        2   \n",
       "2         4731.410934                    (102,)                        1   \n",
       "3         6519.463698          (90, 93, 98, 99)                        4   \n",
       "5         1313.229390         (92, 94, 96, 101)                        4   \n",
       "...               ...                       ...                      ...   \n",
       "2620      6039.291382  (4484, 4486, 4489, 4492)                        4   \n",
       "2621      4170.822144  (4483, 4487, 4490, 4493)                        4   \n",
       "2622      2185.342789  (4482, 4485, 4488, 4494)                        4   \n",
       "2623        92.315674                   (4491,)                        1   \n",
       "2624       171.161438  (4478, 4479, 4480, 4481)                        4   \n",
       "\n",
       "     malignancy_scores subtlety_scores margin_scores  ...  \\\n",
       "0         (5, 5, 5, 4)    (5, 5, 5, 5)  (3, 4, 2, 4)  ...   \n",
       "1               (5, 4)          (2, 1)        (1, 2)  ...   \n",
       "2                 (2,)            (1,)          (2,)  ...   \n",
       "3         (5, 5, 3, 4)    (5, 5, 5, 5)  (3, 3, 3, 4)  ...   \n",
       "5         (4, 5, 3, 2)    (4, 5, 4, 3)  (5, 5, 5, 5)  ...   \n",
       "...                ...             ...           ...  ...   \n",
       "2620      (4, 3, 4, 3)    (5, 5, 5, 5)  (4, 3, 4, 5)  ...   \n",
       "2621      (3, 5, 5, 5)    (5, 5, 5, 5)  (5, 2, 4, 4)  ...   \n",
       "2622      (2, 5, 5, 5)    (3, 5, 5, 5)  (3, 2, 3, 4)  ...   \n",
       "2623              (2,)            (1,)          (2,)  ...   \n",
       "2624      (2, 2, 2, 2)    (1, 4, 4, 4)  (2, 4, 5, 3)  ...   \n",
       "\n",
       "     bbox_within_scan_128 malignancy_consensus  subtlety_consensus  \\\n",
       "0                   False                    5                   5   \n",
       "1                    True                    5                   2   \n",
       "2                    True                    2                   1   \n",
       "3                    True                    4                   5   \n",
       "5                   False                    4                   4   \n",
       "...                   ...                  ...                 ...   \n",
       "2620                 True                    4                   5   \n",
       "2621                False                    5                   5   \n",
       "2622                False                    4                   5   \n",
       "2623                False                    2                   1   \n",
       "2624                 True                    2                   3   \n",
       "\n",
       "     margin_consensus  cancer_label fold_1  fold_2 fold_3  fold_4 fold_5  \n",
       "0                   3             1   test   train  train   train  train  \n",
       "1                   2             1  train   train   test   train  train  \n",
       "2                   2             0  train    test  train   train  train  \n",
       "3                   3             1  train    test  train   train  train  \n",
       "5                   5             1  train    test  train   train  train  \n",
       "...               ...           ...    ...     ...    ...     ...    ...  \n",
       "2620                4             1  train   train  train    test  train  \n",
       "2621                4             1  train   train  train    test  train  \n",
       "2622                3             1  train   train  train    test  train  \n",
       "2623                2             0  train   train  train    test  train  \n",
       "2624                4             0  train    test  train   train  train  \n",
       "\n",
       "[1381 rows x 30 columns]"
      ]
     },
     "execution_count": 14,
     "metadata": {},
     "output_type": "execute_result"
    }
   ],
   "source": [
    "fil_df = df.query(\"cancer_label != 'Ambiguous'\")\n",
    "fil_df[\"cancer_label\"] = fil_df[\"cancer_label\"].map({\"Benign\": 0, \"Malignant\": 1})\n",
    "fil_df\n",
    "\n",
    "# display(fil_df[\"cancer_label\"].value_counts(normalize=True))"
   ]
  }
 ],
 "metadata": {
  "kernelspec": {
   "display_name": ".venv",
   "language": "python",
   "name": "python3"
  },
  "language_info": {
   "codemirror_mode": {
    "name": "ipython",
    "version": 3
   },
   "file_extension": ".py",
   "mimetype": "text/x-python",
   "name": "python",
   "nbconvert_exporter": "python",
   "pygments_lexer": "ipython3",
   "version": "3.11.4"
  }
 },
 "nbformat": 4,
 "nbformat_minor": 2
}
