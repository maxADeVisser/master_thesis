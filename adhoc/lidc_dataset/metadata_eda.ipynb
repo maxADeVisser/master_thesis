{
 "cells": [
  {
   "cell_type": "markdown",
   "metadata": {},
   "source": [
    "# Investigating DICOM meta data attributes"
   ]
  },
  {
   "cell_type": "code",
   "execution_count": 1,
   "metadata": {},
   "outputs": [],
   "source": [
    "from utils.common_imports import *\n",
    "from tqdm import tqdm\n",
    "import re\n",
    "from glob import glob\n",
    "from utils.utils import get_scan_directory_path_by_patient_id"
   ]
  },
  {
   "cell_type": "code",
   "execution_count": null,
   "metadata": {},
   "outputs": [],
   "source": [
    "dicom_image = pydicom.dcmread(\"/Users/newuser/Documents/ITU/master_thesis/data/lung_data/manifest-1725363397135/LIDC-IDRI/LIDC-IDRI-0001/01-01-2000-NA-NA-30178/3000566.000000-NA-03192/1-057.dcm\")\n",
    "dicom_image"
   ]
  },
  {
   "cell_type": "code",
   "execution_count": 3,
   "metadata": {},
   "outputs": [],
   "source": [
    "# a FileDataset object is a dictionary-like object\n",
    "# see class documentation: https://pydicom.github.io/pydicom/stable/reference/generated/pydicom.dataset.FileDataset.html#pydicom.dataset.FileDataset\n",
    "\n",
    "def get_dicom_vals(dicom_file: pydicom.dataset.FileDataset):\n",
    "    \"\"\"Returns the values of the dicom image in a clean format\"\"\"\n",
    "    vals = [v for _, v in dicom_file.to_json_dict().items()]\n",
    "    return_vals = []\n",
    "    for v in vals:\n",
    "        if isinstance(v, dict):\n",
    "            if \"Value\" in v:\n",
    "                if len(v[\"Value\"]) == 1:\n",
    "                    return_vals.append(v[\"Value\"][0])\n",
    "                else:\n",
    "                    return_vals.append(v[\"Value\"])\n",
    "            else:\n",
    "                return_vals.append(None)\n",
    "        else:\n",
    "            raise ValueError(f\"Value is not a dict: {type(v)}\")\n",
    "\n",
    "    return return_vals\n",
    "\n",
    "def get_dicom_keys(dicom_file: pydicom.dataset.FileDataset):\n",
    "    \"\"\"Returns the keys of the dicom image in a clean format\"\"\"\n",
    "    return_keys = []\n",
    "    extract_key = lambda k: re.sub(r'\\s+', ' ', k.split(\")\")[1][1:].split(\":\")[0])\n",
    "    for _, val in dicom_image.items():\n",
    "        k = extract_key(str(val))\n",
    "        return_keys.append(k)\n",
    "    return return_keys\n",
    "\n",
    "def parse_dicom_to_dict(dicom_file: pydicom.dataset.FileDataset):\n",
    "    return dict(zip(get_dicom_keys(dicom_file), get_dicom_vals(dicom_file)))"
   ]
  },
  {
   "cell_type": "code",
   "execution_count": 22,
   "metadata": {},
   "outputs": [],
   "source": [
    "# Load all dicom files in a patient scan directory\n",
    "# and check if the meta keys are consistent across all files\n",
    "def collect_meta_fields(patient_scan_dir: str) -> dict:\n",
    "    patient_scan_paths = sorted(glob(f\"{patient_scan_dir}/*.dcm\"))\n",
    "    collected_meta_fields = {}\n",
    "    for s in patient_scan_paths:\n",
    "        with pydicom.dcmread(fp=s, force=True) as dicom_image:\n",
    "            # NOTE: the print statement (or pixel_array access) forces the image to be read into memory. Do not remove.\n",
    "            # print(dicom_image)\n",
    "            try:\n",
    "                dicom_image.pixel_array\n",
    "            except Exception as e:\n",
    "                print(dicom_image)\n",
    "            dict = parse_dicom_to_dict(dicom_image)\n",
    "\n",
    "        for k, v in dict.items():\n",
    "            if k not in collected_meta_fields:\n",
    "                collected_meta_fields[k] = []\n",
    "            collected_meta_fields[k].append(v)\n",
    "\n",
    "    return collected_meta_fields\n",
    "\n",
    "patient_scan_dir = \"/Users/newuser/Documents/ITU/master_thesis/data/lung_data/manifest-1725363397135/LIDC-IDRI/LIDC-IDRI-0001/01-01-2000-NA-NA-30178/3000566.000000-NA-03192\"\n",
    "collected_meta_fields = collect_meta_fields(patient_scan_dir)\n",
    "\n",
    "res_keys = list(collected_meta_fields.keys())"
   ]
  },
  {
   "cell_type": "code",
   "execution_count": 23,
   "metadata": {},
   "outputs": [],
   "source": [
    "# check that all meta data for all dicom images in the scan are equal\n",
    "def all_equal(lst: list) -> bool:\n",
    "    \"\"\"Checks if all elements in the list are equal (to the first element)\"\"\"\n",
    "    first_element = lst[0]\n",
    "    return all([first_element == x for x in lst])\n",
    "\n",
    "def all_equal_dict(d: dict) -> list[bool]:\n",
    "    \"\"\"Assumes a dictionary with list values is given. Checks if all lists are equal\"\"\"\n",
    "    return [all_equal(v) for _, v in d.items()]"
   ]
  },
  {
   "cell_type": "code",
   "execution_count": null,
   "metadata": {},
   "outputs": [],
   "source": [
    "# # make .csv file with all the meta data checking that they are equal across all patient scans\n",
    "all_patient_ids = sorted([d for d in os.listdir(config.DATA_DIR) if \"LIDC-IDRI\" in d])\n",
    "\n",
    "df_dicts = []\n",
    "\n",
    "# c = 0\n",
    "for pid in tqdm(all_patient_ids):\n",
    "    pid_scan_file_dir = get_scan_directory_path_by_patient_id(patient_id_dir=pid)\n",
    "    collected_meta_fields = collect_meta_fields(pid_scan_file_dir)\n",
    "    equal_results = all_equal_dict(collected_meta_fields)\n",
    "    df_dicts.append({k: v for k, v in zip(res_keys, equal_results)})\n",
    "\n",
    "    # DEBUGGING\n",
    "    # if c == 10:\n",
    "    #     break\n",
    "    # c += 1"
   ]
  },
  {
   "cell_type": "code",
   "execution_count": 28,
   "metadata": {},
   "outputs": [],
   "source": [
    "df = pd.DataFrame(df_dicts, index=all_patient_ids)\n",
    "# df.to_excel(\"out/meta_data_check.xlsx\")"
   ]
  }
 ],
 "metadata": {
  "kernelspec": {
   "display_name": ".venv",
   "language": "python",
   "name": "python3"
  },
  "language_info": {
   "codemirror_mode": {
    "name": "ipython",
    "version": 3
   },
   "file_extension": ".py",
   "mimetype": "text/x-python",
   "name": "python",
   "nbconvert_exporter": "python",
   "pygments_lexer": "ipython3",
   "version": "3.11.4"
  }
 },
 "nbformat": 4,
 "nbformat_minor": 2
}
