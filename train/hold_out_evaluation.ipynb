{
 "cells": [
  {
   "cell_type": "code",
   "execution_count": null,
   "metadata": {},
   "outputs": [],
   "source": [
    "# Load the model\n",
    "# predict on the holdout set\n",
    "# evaluate the model\n",
    "\n",
    "import torch\n",
    "import pandas as pd\n",
    "\n",
    "hold_nodule_df = pd.read_csv('holdout_nodule_df.csv')"
   ]
  }
 ],
 "metadata": {
  "kernelspec": {
   "display_name": "master-thesis-RHn4DUqs-py3.12",
   "language": "python",
   "name": "python3"
  },
  "language_info": {
   "codemirror_mode": {
    "name": "ipython",
    "version": 3
   },
   "file_extension": ".py",
   "mimetype": "text/x-python",
   "name": "python",
   "nbconvert_exporter": "python",
   "pygments_lexer": "ipython3",
   "version": "3.12.5"
  }
 },
 "nbformat": 4,
 "nbformat_minor": 2
}
