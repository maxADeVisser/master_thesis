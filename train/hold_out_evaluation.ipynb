{
 "cells": [
  {
   "cell_type": "markdown",
   "metadata": {},
   "source": [
    "## Evaluate a model on the holdout set\n",
    "(assumes that a holdout set is precomputed)\n",
    "1. Load precomputed holdout nodule dataset\n",
    "2. load model weights\n",
    "3. run model evaluation using the holdout nodules"
   ]
  },
  {
   "cell_type": "code",
   "execution_count": 2,
   "metadata": {},
   "outputs": [
    {
     "name": "stdout",
     "output_type": "stream",
     "text": [
      "[INFO|train.py|evaluate_model|L109] 2024-11-17 21:20:48: Validating model ...\n"
     ]
    },
    {
     "name": "stderr",
     "output_type": "stream",
     "text": [
      "/Users/newuser/Documents/ITU/master_thesis/model/ResNet.py:284: FutureWarning: You are using `torch.load` with `weights_only=False` (the current default value), which uses the default pickle module implicitly. It is possible to construct malicious pickle data which will execute arbitrary code during unpickling (See https://github.com/pytorch/pytorch/blob/main/SECURITY.md#untrusted-models for more details). In a future release, the default value for `weights_only` will be flipped to `True`. This limits the functions that could be executed during unpickling. Arbitrary objects will no longer be allowed to be loaded via this mode unless they are explicitly allowlisted by the user via `torch.serialization.add_safe_globals`. We recommend you start setting `weights_only=True` for any use case where you don't have full control of the loaded file. Please open an issue on GitHub for any issues related to this experimental feature.\n",
      "  model.load_state_dict(torch.load(f=weights_path, map_location=torch.device(device)))\n"
     ]
    },
    {
     "name": "stdout",
     "output_type": "stream",
     "text": [
      "\n",
      "[[--- Hold-out set evaluation results ---]]\n",
      "    Average Batch Loss: 0.3940111612241099\n",
      "    MAE: 0.4448818862438202\n",
      "    MSE: 0.5157480239868164\n",
      "    AUC Filtered: 0.969620253164557\n",
      "    AUC OVR: 0.7935878794939335\n",
      "    CWCE: 0.39219653606414795\n",
      "    Accuracy: 0.5905511975288391\n",
      "\n"
     ]
    },
    {
     "name": "stderr",
     "output_type": "stream",
     "text": [
      "/Users/newuser/Documents/ITU/master_thesis/utils/visualisation.py:32: UserWarning: No artists with labels found to put in legend.  Note that artists whose label start with an underscore are ignored when legend() is called with no argument.\n",
      "  plt.legend()\n"
     ]
    },
    {
     "data": {
      "image/png": "[encoded data removed]",
      "text/plain": [
       "<Figure size 640x480 with 1 Axes>"
      ]
     },
     "metadata": {},
     "output_type": "display_data"
    }
   ],
   "source": [
    "import torch\n",
    "from torch.utils.data import DataLoader\n",
    "from data.dataset import PrecomputedNoduleROIs\n",
    "from utils.visualisation import plot_val_error_distribution\n",
    "from train.train import evaluate_model\n",
    "from model.ResNet import ResNet50, load_resnet_model\n",
    "\n",
    "precomputed_nodules_path = 'data/precomputed_rois_30C_3Dhold_out'\n",
    "hold_data = PrecomputedNoduleROIs(precomputed_nodules_path)\n",
    "loader = DataLoader(hold_data, batch_size=1, shuffle=False)\n",
    "weights_path = \"/Users/newuser/Desktop/model30C_3D.pth\"\n",
    "model = load_resnet_model(weights_path, in_channels=1, dims=\"3D\")\n",
    "model.eval() # turns off dropout and batchnorm\n",
    "\n",
    "metric_results = evaluate_model(model, loader)\n",
    "\n",
    "print_res = f\"\"\"\n",
    "[[--- Hold-out set evaluation results ---]]\n",
    "    Average Batch Loss: {metric_results['avg_val_loss']}\n",
    "    MAE: {metric_results['mae']}\n",
    "    MSE: {metric_results['mse']}\n",
    "    AUC Filtered: {metric_results['AUC_filtered']}\n",
    "    AUC OVR: {metric_results['AUC_ovr']}\n",
    "    CWCE: {metric_results['cwce']}\n",
    "    Accuracy: {metric_results['accuracy']}\n",
    "\"\"\"\n",
    "print(print_res)\n",
    "\n",
    "plot_val_error_distribution(metric_results[\"errors\"], show=True)"
   ]
  }
 ],
 "metadata": {
  "kernelspec": {
   "display_name": ".venv",
   "language": "python",
   "name": "python3"
  },
  "language_info": {
   "codemirror_mode": {
    "name": "ipython",
    "version": 3
   },
   "file_extension": ".py",
   "mimetype": "text/x-python",
   "name": "python",
   "nbconvert_exporter": "python",
   "pygments_lexer": "ipython3",
   "version": "3.11.4"
  }
 },
 "nbformat": 4,
 "nbformat_minor": 2
}
